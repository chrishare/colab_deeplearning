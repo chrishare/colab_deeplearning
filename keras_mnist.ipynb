{
  "nbformat": 4,
  "nbformat_minor": 0,
  "metadata": {
    "colab": {
      "name": "keras_mnist.ipynb",
      "version": "0.3.2",
      "provenance": [],
      "collapsed_sections": [],
      "include_colab_link": true
    },
    "kernelspec": {
      "name": "python3",
      "display_name": "Python 3"
    },
    "accelerator": "GPU"
  },
  "cells": [
    {
      "cell_type": "markdown",
      "metadata": {
        "id": "view-in-github",
        "colab_type": "text"
      },
      "source": [
        "<a href=\"https://colab.research.google.com/github/chrishare/colab_deeplearning/blob/master/keras_mnist.ipynb\" target=\"_parent\"><img src=\"https://colab.research.google.com/assets/colab-badge.svg\" alt=\"Open In Colab\"/></a>"
      ]
    },
    {
      "metadata": {
        "id": "72daIok3TlgA",
        "colab_type": "code",
        "outputId": "acbdcf28-480e-4887-b6fb-cb7c81a57b28",
        "colab": {
          "base_uri": "https://localhost:8080/",
          "height": 364
        }
      },
      "cell_type": "code",
      "source": [
        "# This listing uses Keras to train a deep neural net on the MNIST digit dataset\n",
        "\n",
        "# First, import tensorflow, numpy and matplotlib\n",
        "import tensorflow as tf\n",
        "import numpy as np\n",
        "from matplotlib import pyplot as plt\n",
        "\n",
        "# Download the mnist dataset. The training data will be (28, 28) ndarrays of \n",
        "# ints between 0 (white) and 255 (black) and labels are ints from 0 to 9\n",
        "mnist = tf.keras.datasets.mnist\n",
        "(x_train, y_train),(x_test, y_test) = mnist.load_data()\n",
        "# We want to scale the data to be on a scale of 0.0 (white) to 1.0 (black) - \n",
        "# scaling is especially useful when we have many feautures, since features on \n",
        "# smaller scales will get overwhelmed by feautures on big scales\n",
        "x_train, x_test = x_train / 255.0, x_test / 255.0\n",
        "\n",
        "# Define a helper function for rendering an image - matplotlib expects ints \n",
        "# from 0 (white) to 255 (black)\n",
        "def gen_image(arr):\n",
        "    two_d = (np.reshape(arr, (28, 28)) * 255).astype(np.uint8)\n",
        "    plt.imshow(two_d, interpolation='nearest')\n",
        "    return plt\n",
        "\n",
        "gen_image(x_train[5])\n",
        "print('Target label is {}'.format(y_train[5]))\n"
      ],
      "execution_count": 1,
      "outputs": [
        {
          "output_type": "stream",
          "text": [
            "Target label is 2\n"
          ],
          "name": "stdout"
        },
        {
          "output_type": "display_data",
          "data": {
            "image/png": "[encoded data removed]",
            "text/plain": [
              "<matplotlib.figure.Figure at 0x7fc46fe55d68>"
            ]
          },
          "metadata": {
            "tags": []
          }
        }
      ]
    },
    {
      "metadata": {
        "id": "0Z_GcC9dOjru",
        "colab_type": "code",
        "colab": {
          "base_uri": "https://localhost:8080/",
          "height": 221
        },
        "outputId": "6adf2a54-5ede-4615-b8b5-3e4695de62b9"
      },
      "cell_type": "code",
      "source": [
        "# Okay, create a model of sequential layers \n",
        "# 1. Flatter the (28, 28) input into a vector\n",
        "# 2. Feed the input into 512-nueron layer fully connected, activating with relu\n",
        "# 3. Kill 20% of neurons randomly, for training, to regularize\n",
        "# 4. Output layer of 10 mutually exclusive categories, given us an array\n",
        "#    of 10 floats representing the probability it is that class (0.0 to 1.0)\n",
        "model = tf.keras.models.Sequential([\n",
        "  tf.keras.layers.Flatten(),\n",
        "  tf.keras.layers.Dense(512, activation=tf.nn.relu),\n",
        "  tf.keras.layers.Dropout(0.2),\n",
        "  tf.keras.layers.Dense(10, activation=tf.nn.softmax)\n",
        "])\n",
        "\n",
        "# Compile the model, optomizing with adaptive momentum (adam), sparse cross\n",
        "# entropy as the loss function, and accuracy as the evaluation metric\n",
        "model.compile(optimizer='adam',\n",
        "              loss='sparse_categorical_crossentropy',\n",
        "              metrics=['accuracy'])\n",
        "\n",
        "# Actually execute the training of the model against the dataset, using batches\n",
        "# of 32 by default and 5 full passes through the dataset\n",
        "model.fit(x_train, y_train, epochs=5)\n",
        "\n",
        "# Evaluate how good the model is after training, on a test set\n",
        "model.evaluate(x_test, y_test)\n",
        "\n"
      ],
      "execution_count": 2,
      "outputs": [
        {
          "output_type": "stream",
          "text": [
            "Epoch 1/5\n",
            "60000/60000 [==============================] - 11s 178us/step - loss: 0.2014 - acc: 0.9400\n",
            "Epoch 2/5\n",
            "60000/60000 [==============================] - 10s 162us/step - loss: 0.0818 - acc: 0.9751\n",
            "Epoch 3/5\n",
            "60000/60000 [==============================] - 10s 163us/step - loss: 0.0515 - acc: 0.9836\n",
            "Epoch 4/5\n",
            "60000/60000 [==============================] - 10s 164us/step - loss: 0.0372 - acc: 0.9882\n",
            "Epoch 5/5\n",
            "60000/60000 [==============================] - 10s 164us/step - loss: 0.0264 - acc: 0.9916\n",
            "10000/10000 [==============================] - 1s 78us/step\n"
          ],
          "name": "stdout"
        },
        {
          "output_type": "execute_result",
          "data": {
            "text/plain": [
              "[0.07235417631478631, 0.9768]"
            ]
          },
          "metadata": {
            "tags": []
          },
          "execution_count": 2
        }
      ]
    },
    {
      "metadata": {
        "id": "CCAa0XWNQg5G",
        "colab_type": "code",
        "colab": {
          "base_uri": "https://localhost:8080/",
          "height": 364
        },
        "outputId": "b4fdc5fc-0561-4420-9e91-730011cff50f"
      },
      "cell_type": "code",
      "source": [
        "# We can make new predictions using the model. We can also save it if we want.\n",
        "test_item = x_train[99].reshape(1, 28, 28)\n",
        "gen_image(test_item)\n",
        "predict = model.predict(test_item, batch_size=1)\n",
        "print(np.argmax(predict))"
      ],
      "execution_count": 3,
      "outputs": [
        {
          "output_type": "stream",
          "text": [
            "1\n"
          ],
          "name": "stdout"
        },
        {
          "output_type": "display_data",
          "data": {
            "image/png": "[encoded data removed]",
            "text/plain": [
              "<matplotlib.figure.Figure at 0x7fc46fea89b0>"
            ]
          },
          "metadata": {
            "tags": []
          }
        }
      ]
    },
    {
      "metadata": {
        "id": "IAkiFy6JPiOR",
        "colab_type": "code",
        "colab": {}
      },
      "cell_type": "code",
      "source": [
        ""
      ],
      "execution_count": 0,
      "outputs": []
    }
  ]
}