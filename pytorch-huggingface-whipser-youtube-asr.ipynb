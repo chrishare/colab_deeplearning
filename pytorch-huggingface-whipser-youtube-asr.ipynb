{
  "nbformat": 4,
  "nbformat_minor": 0,
  "metadata": {
    "colab": {
      "provenance": [],
      "authorship_tag": "ABX9TyPJaSJXmgGiMZ16zwkXWOBA",
      "include_colab_link": true
    },
    "kernelspec": {
      "name": "python3",
      "display_name": "Python 3"
    },
    "language_info": {
      "name": "python"
    },
    "accelerator": "GPU",
    "gpuClass": "standard",
    "widgets": {
      "application/vnd.jupyter.widget-state+json": {
        "21f01ae238ce475e8498de11d4ac798a": {
          "model_module": "@jupyter-widgets/controls",
          "model_name": "HBoxModel",
          "model_module_version": "1.5.0",
          "state": {
            "_dom_classes": [],
            "_model_module": "@jupyter-widgets/controls",
            "_model_module_version": "1.5.0",
            "_model_name": "HBoxModel",
            "_view_count": null,
            "_view_module": "@jupyter-widgets/controls",
            "_view_module_version": "1.5.0",
            "_view_name": "HBoxView",
            "box_style": "",
            "children": [
              "IPY_MODEL_58bace916aa245c4a4746544aafe67c5",
              "IPY_MODEL_02809c5246dc4bd78de5ca30b4264d46",
              "IPY_MODEL_22ba1900eb0b4f0cb19ee93183f76541"
            ],
            "layout": "IPY_MODEL_b79bbd0f98ee40e590fc7918feb1f9d6"
          }
        },
        "58bace916aa245c4a4746544aafe67c5": {
          "model_module": "@jupyter-widgets/controls",
          "model_name": "HTMLModel",
          "model_module_version": "1.5.0",
          "state": {
            "_dom_classes": [],
            "_model_module": "@jupyter-widgets/controls",
            "_model_module_version": "1.5.0",
            "_model_name": "HTMLModel",
            "_view_count": null,
            "_view_module": "@jupyter-widgets/controls",
            "_view_module_version": "1.5.0",
            "_view_name": "HTMLView",
            "description": "",
            "description_tooltip": null,
            "layout": "IPY_MODEL_206a9e3e6964498094d12fbcbc589eaa",
            "placeholder": "​",
            "style": "IPY_MODEL_f22f635153884fb0b162cefaeaaf04da",
            "value": "Downloading (…)lve/main/config.json: 100%"
          }
        },
        "02809c5246dc4bd78de5ca30b4264d46": {
          "model_module": "@jupyter-widgets/controls",
          "model_name": "FloatProgressModel",
          "model_module_version": "1.5.0",
          "state": {
            "_dom_classes": [],
            "_model_module": "@jupyter-widgets/controls",
            "_model_module_version": "1.5.0",
            "_model_name": "FloatProgressModel",
            "_view_count": null,
            "_view_module": "@jupyter-widgets/controls",
            "_view_module_version": "1.5.0",
            "_view_name": "ProgressView",
            "bar_style": "success",
            "description": "",
            "description_tooltip": null,
            "layout": "IPY_MODEL_651171d6cfd04dd8b6fde8a22837665e",
            "max": 1969,
            "min": 0,
            "orientation": "horizontal",
            "style": "IPY_MODEL_2ff262d219a84f7d805013b6afee3f8c",
            "value": 1969
          }
        },
        "22ba1900eb0b4f0cb19ee93183f76541": {
          "model_module": "@jupyter-widgets/controls",
          "model_name": "HTMLModel",
          "model_module_version": "1.5.0",
          "state": {
            "_dom_classes": [],
            "_model_module": "@jupyter-widgets/controls",
            "_model_module_version": "1.5.0",
            "_model_name": "HTMLModel",
            "_view_count": null,
            "_view_module": "@jupyter-widgets/controls",
            "_view_module_version": "1.5.0",
            "_view_name": "HTMLView",
            "description": "",
            "description_tooltip": null,
            "layout": "IPY_MODEL_d550c9a9cb844dc7a3f5cfe3e81efb22",
            "placeholder": "​",
            "style": "IPY_MODEL_b7aaf9dbd8fc4961aec11a6f01d15363",
            "value": " 1.97k/1.97k [00:00&lt;00:00, 81.5kB/s]"
          }
        },
        "b79bbd0f98ee40e590fc7918feb1f9d6": {
          "model_module": "@jupyter-widgets/base",
          "model_name": "LayoutModel",
          "model_module_version": "1.2.0",
          "state": {
            "_model_module": "@jupyter-widgets/base",
            "_model_module_version": "1.2.0",
            "_model_name": "LayoutModel",
            "_view_count": null,
            "_view_module": "@jupyter-widgets/base",
            "_view_module_version": "1.2.0",
            "_view_name": "LayoutView",
            "align_content": null,
            "align_items": null,
            "align_self": null,
            "border": null,
            "bottom": null,
            "display": null,
            "flex": null,
            "flex_flow": null,
            "grid_area": null,
            "grid_auto_columns": null,
            "grid_auto_flow": null,
            "grid_auto_rows": null,
            "grid_column": null,
            "grid_gap": null,
            "grid_row": null,
            "grid_template_areas": null,
            "grid_template_columns": null,
            "grid_template_rows": null,
            "height": null,
            "justify_content": null,
            "justify_items": null,
            "left": null,
            "margin": null,
            "max_height": null,
            "max_width": null,
            "min_height": null,
            "min_width": null,
            "object_fit": null,
            "object_position": null,
            "order": null,
            "overflow": null,
            "overflow_x": null,
            "overflow_y": null,
            "padding": null,
            "right": null,
            "top": null,
            "visibility": null,
            "width": null
          }
        },
        "206a9e3e6964498094d12fbcbc589eaa": {
          "model_module": "@jupyter-widgets/base",
          "model_name": "LayoutModel",
          "model_module_version": "1.2.0",
          "state": {
            "_model_module": "@jupyter-widgets/base",
            "_model_module_version": "1.2.0",
            "_model_name": "LayoutModel",
            "_view_count": null,
            "_view_module": "@jupyter-widgets/base",
            "_view_module_version": "1.2.0",
            "_view_name": "LayoutView",
            "align_content": null,
            "align_items": null,
            "align_self": null,
            "border": null,
            "bottom": null,
            "display": null,
            "flex": null,
            "flex_flow": null,
            "grid_area": null,
            "grid_auto_columns": null,
            "grid_auto_flow": null,
            "grid_auto_rows": null,
            "grid_column": null,
            "grid_gap": null,
            "grid_row": null,
            "grid_template_areas": null,
            "grid_template_columns": null,
            "grid_template_rows": null,
            "height": null,
            "justify_content": null,
            "justify_items": null,
            "left": null,
            "margin": null,
            "max_height": null,
            "max_width": null,
            "min_height": null,
            "min_width": null,
            "object_fit": null,
            "object_position": null,
            "order": null,
            "overflow": null,
            "overflow_x": null,
            "overflow_y": null,
            "padding": null,
            "right": null,
            "top": null,
            "visibility": null,
            "width": null
          }
        },
        "f22f635153884fb0b162cefaeaaf04da": {
          "model_module": "@jupyter-widgets/controls",
          "model_name": "DescriptionStyleModel",
          "model_module_version": "1.5.0",
          "state": {
            "_model_module": "@jupyter-widgets/controls",
            "_model_module_version": "1.5.0",
            "_model_name": "DescriptionStyleModel",
            "_view_count": null,
            "_view_module": "@jupyter-widgets/base",
            "_view_module_version": "1.2.0",
            "_view_name": "StyleView",
            "description_width": ""
          }
        },
        "651171d6cfd04dd8b6fde8a22837665e": {
          "model_module": "@jupyter-widgets/base",
          "model_name": "LayoutModel",
          "model_module_version": "1.2.0",
          "state": {
            "_model_module": "@jupyter-widgets/base",
            "_model_module_version": "1.2.0",
            "_model_name": "LayoutModel",
            "_view_count": null,
            "_view_module": "@jupyter-widgets/base",
            "_view_module_version": "1.2.0",
            "_view_name": "LayoutView",
            "align_content": null,
            "align_items": null,
            "align_self": null,
            "border": null,
            "bottom": null,
            "display": null,
            "flex": null,
            "flex_flow": null,
            "grid_area": null,
            "grid_auto_columns": null,
            "grid_auto_flow": null,
            "grid_auto_rows": null,
            "grid_column": null,
            "grid_gap": null,
            "grid_row": null,
            "grid_template_areas": null,
            "grid_template_columns": null,
            "grid_template_rows": null,
            "height": null,
            "justify_content": null,
            "justify_items": null,
            "left": null,
            "margin": null,
            "max_height": null,
            "max_width": null,
            "min_height": null,
            "min_width": null,
            "object_fit": null,
            "object_position": null,
            "order": null,
            "overflow": null,
            "overflow_x": null,
            "overflow_y": null,
            "padding": null,
            "right": null,
            "top": null,
            "visibility": null,
            "width": null
          }
        },
        "2ff262d219a84f7d805013b6afee3f8c": {
          "model_module": "@jupyter-widgets/controls",
          "model_name": "ProgressStyleModel",
          "model_module_version": "1.5.0",
          "state": {
            "_model_module": "@jupyter-widgets/controls",
            "_model_module_version": "1.5.0",
            "_model_name": "ProgressStyleModel",
            "_view_count": null,
            "_view_module": "@jupyter-widgets/base",
            "_view_module_version": "1.2.0",
            "_view_name": "StyleView",
            "bar_color": null,
            "description_width": ""
          }
        },
        "d550c9a9cb844dc7a3f5cfe3e81efb22": {
          "model_module": "@jupyter-widgets/base",
          "model_name": "LayoutModel",
          "model_module_version": "1.2.0",
          "state": {
            "_model_module": "@jupyter-widgets/base",
            "_model_module_version": "1.2.0",
            "_model_name": "LayoutModel",
            "_view_count": null,
            "_view_module": "@jupyter-widgets/base",
            "_view_module_version": "1.2.0",
            "_view_name": "LayoutView",
            "align_content": null,
            "align_items": null,
            "align_self": null,
            "border": null,
            "bottom": null,
            "display": null,
            "flex": null,
            "flex_flow": null,
            "grid_area": null,
            "grid_auto_columns": null,
            "grid_auto_flow": null,
            "grid_auto_rows": null,
            "grid_column": null,
            "grid_gap": null,
            "grid_row": null,
            "grid_template_areas": null,
            "grid_template_columns": null,
            "grid_template_rows": null,
            "height": null,
            "justify_content": null,
            "justify_items": null,
            "left": null,
            "margin": null,
            "max_height": null,
            "max_width": null,
            "min_height": null,
            "min_width": null,
            "object_fit": null,
            "object_position": null,
            "order": null,
            "overflow": null,
            "overflow_x": null,
            "overflow_y": null,
            "padding": null,
            "right": null,
            "top": null,
            "visibility": null,
            "width": null
          }
        },
        "b7aaf9dbd8fc4961aec11a6f01d15363": {
          "model_module": "@jupyter-widgets/controls",
          "model_name": "DescriptionStyleModel",
          "model_module_version": "1.5.0",
          "state": {
            "_model_module": "@jupyter-widgets/controls",
            "_model_module_version": "1.5.0",
            "_model_name": "DescriptionStyleModel",
            "_view_count": null,
            "_view_module": "@jupyter-widgets/base",
            "_view_module_version": "1.2.0",
            "_view_name": "StyleView",
            "description_width": ""
          }
        },
        "b9d4e4a296474ac0a2e33e68ff7eccee": {
          "model_module": "@jupyter-widgets/controls",
          "model_name": "HBoxModel",
          "model_module_version": "1.5.0",
          "state": {
            "_dom_classes": [],
            "_model_module": "@jupyter-widgets/controls",
            "_model_module_version": "1.5.0",
            "_model_name": "HBoxModel",
            "_view_count": null,
            "_view_module": "@jupyter-widgets/controls",
            "_view_module_version": "1.5.0",
            "_view_name": "HBoxView",
            "box_style": "",
            "children": [
              "IPY_MODEL_80185d3d139f40a58a48e30962b13b91",
              "IPY_MODEL_128e33e3861c4206a5d588608f0e1f5f",
              "IPY_MODEL_8c5095d8779c41d1a29d46b8a588cd55"
            ],
            "layout": "IPY_MODEL_598ffb5b7bb84321a80f77d2ce372585"
          }
        },
        "80185d3d139f40a58a48e30962b13b91": {
          "model_module": "@jupyter-widgets/controls",
          "model_name": "HTMLModel",
          "model_module_version": "1.5.0",
          "state": {
            "_dom_classes": [],
            "_model_module": "@jupyter-widgets/controls",
            "_model_module_version": "1.5.0",
            "_model_name": "HTMLModel",
            "_view_count": null,
            "_view_module": "@jupyter-widgets/controls",
            "_view_module_version": "1.5.0",
            "_view_name": "HTMLView",
            "description": "",
            "description_tooltip": null,
            "layout": "IPY_MODEL_1e20ff0d6a954748bd52149d76aad89d",
            "placeholder": "​",
            "style": "IPY_MODEL_bf61647e564e4373b85f055a7c583c60",
            "value": "Downloading pytorch_model.bin: 100%"
          }
        },
        "128e33e3861c4206a5d588608f0e1f5f": {
          "model_module": "@jupyter-widgets/controls",
          "model_name": "FloatProgressModel",
          "model_module_version": "1.5.0",
          "state": {
            "_dom_classes": [],
            "_model_module": "@jupyter-widgets/controls",
            "_model_module_version": "1.5.0",
            "_model_name": "FloatProgressModel",
            "_view_count": null,
            "_view_module": "@jupyter-widgets/controls",
            "_view_module_version": "1.5.0",
            "_view_name": "ProgressView",
            "bar_style": "success",
            "description": "",
            "description_tooltip": null,
            "layout": "IPY_MODEL_1f28ccf4d317457b964c027649fe7271",
            "max": 3055735323,
            "min": 0,
            "orientation": "horizontal",
            "style": "IPY_MODEL_8111e4cdd2834e329e7e3b208fb6aca1",
            "value": 3055735323
          }
        },
        "8c5095d8779c41d1a29d46b8a588cd55": {
          "model_module": "@jupyter-widgets/controls",
          "model_name": "HTMLModel",
          "model_module_version": "1.5.0",
          "state": {
            "_dom_classes": [],
            "_model_module": "@jupyter-widgets/controls",
            "_model_module_version": "1.5.0",
            "_model_name": "HTMLModel",
            "_view_count": null,
            "_view_module": "@jupyter-widgets/controls",
            "_view_module_version": "1.5.0",
            "_view_name": "HTMLView",
            "description": "",
            "description_tooltip": null,
            "layout": "IPY_MODEL_35833bd1cd1d499ea326e9bc18eee3ed",
            "placeholder": "​",
            "style": "IPY_MODEL_36f97656bf7746b59cdf3c11edc4b403",
            "value": " 3.06G/3.06G [00:34&lt;00:00, 89.1MB/s]"
          }
        },
        "598ffb5b7bb84321a80f77d2ce372585": {
          "model_module": "@jupyter-widgets/base",
          "model_name": "LayoutModel",
          "model_module_version": "1.2.0",
          "state": {
            "_model_module": "@jupyter-widgets/base",
            "_model_module_version": "1.2.0",
            "_model_name": "LayoutModel",
            "_view_count": null,
            "_view_module": "@jupyter-widgets/base",
            "_view_module_version": "1.2.0",
            "_view_name": "LayoutView",
            "align_content": null,
            "align_items": null,
            "align_self": null,
            "border": null,
            "bottom": null,
            "display": null,
            "flex": null,
            "flex_flow": null,
            "grid_area": null,
            "grid_auto_columns": null,
            "grid_auto_flow": null,
            "grid_auto_rows": null,
            "grid_column": null,
            "grid_gap": null,
            "grid_row": null,
            "grid_template_areas": null,
            "grid_template_columns": null,
            "grid_template_rows": null,
            "height": null,
            "justify_content": null,
            "justify_items": null,
            "left": null,
            "margin": null,
            "max_height": null,
            "max_width": null,
            "min_height": null,
            "min_width": null,
            "object_fit": null,
            "object_position": null,
            "order": null,
            "overflow": null,
            "overflow_x": null,
            "overflow_y": null,
            "padding": null,
            "right": null,
            "top": null,
            "visibility": null,
            "width": null
          }
        },
        "1e20ff0d6a954748bd52149d76aad89d": {
          "model_module": "@jupyter-widgets/base",
          "model_name": "LayoutModel",
          "model_module_version": "1.2.0",
          "state": {
            "_model_module": "@jupyter-widgets/base",
            "_model_module_version": "1.2.0",
            "_model_name": "LayoutModel",
            "_view_count": null,
            "_view_module": "@jupyter-widgets/base",
            "_view_module_version": "1.2.0",
            "_view_name": "LayoutView",
            "align_content": null,
            "align_items": null,
            "align_self": null,
            "border": null,
            "bottom": null,
            "display": null,
            "flex": null,
            "flex_flow": null,
            "grid_area": null,
            "grid_auto_columns": null,
            "grid_auto_flow": null,
            "grid_auto_rows": null,
            "grid_column": null,
            "grid_gap": null,
            "grid_row": null,
            "grid_template_areas": null,
            "grid_template_columns": null,
            "grid_template_rows": null,
            "height": null,
            "justify_content": null,
            "justify_items": null,
            "left": null,
            "margin": null,
            "max_height": null,
            "max_width": null,
            "min_height": null,
            "min_width": null,
            "object_fit": null,
            "object_position": null,
            "order": null,
            "overflow": null,
            "overflow_x": null,
            "overflow_y": null,
            "padding": null,
            "right": null,
            "top": null,
            "visibility": null,
            "width": null
          }
        },
        "bf61647e564e4373b85f055a7c583c60": {
          "model_module": "@jupyter-widgets/controls",
          "model_name": "DescriptionStyleModel",
          "model_module_version": "1.5.0",
          "state": {
            "_model_module": "@jupyter-widgets/controls",
            "_model_module_version": "1.5.0",
            "_model_name": "DescriptionStyleModel",
            "_view_count": null,
            "_view_module": "@jupyter-widgets/base",
            "_view_module_version": "1.2.0",
            "_view_name": "StyleView",
            "description_width": ""
          }
        },
        "1f28ccf4d317457b964c027649fe7271": {
          "model_module": "@jupyter-widgets/base",
          "model_name": "LayoutModel",
          "model_module_version": "1.2.0",
          "state": {
            "_model_module": "@jupyter-widgets/base",
            "_model_module_version": "1.2.0",
            "_model_name": "LayoutModel",
            "_view_count": null,
            "_view_module": "@jupyter-widgets/base",
            "_view_module_version": "1.2.0",
            "_view_name": "LayoutView",
            "align_content": null,
            "align_items": null,
            "align_self": null,
            "border": null,
            "bottom": null,
            "display": null,
            "flex": null,
            "flex_flow": null,
            "grid_area": null,
            "grid_auto_columns": null,
            "grid_auto_flow": null,
            "grid_auto_rows": null,
            "grid_column": null,
            "grid_gap": null,
            "grid_row": null,
            "grid_template_areas": null,
            "grid_template_columns": null,
            "grid_template_rows": null,
            "height": null,
            "justify_content": null,
            "justify_items": null,
            "left": null,
            "margin": null,
            "max_height": null,
            "max_width": null,
            "min_height": null,
            "min_width": null,
            "object_fit": null,
            "object_position": null,
            "order": null,
            "overflow": null,
            "overflow_x": null,
            "overflow_y": null,
            "padding": null,
            "right": null,
            "top": null,
            "visibility": null,
            "width": null
          }
        },
        "8111e4cdd2834e329e7e3b208fb6aca1": {
          "model_module": "@jupyter-widgets/controls",
          "model_name": "ProgressStyleModel",
          "model_module_version": "1.5.0",
          "state": {
            "_model_module": "@jupyter-widgets/controls",
            "_model_module_version": "1.5.0",
            "_model_name": "ProgressStyleModel",
            "_view_count": null,
            "_view_module": "@jupyter-widgets/base",
            "_view_module_version": "1.2.0",
            "_view_name": "StyleView",
            "bar_color": null,
            "description_width": ""
          }
        },
        "35833bd1cd1d499ea326e9bc18eee3ed": {
          "model_module": "@jupyter-widgets/base",
          "model_name": "LayoutModel",
          "model_module_version": "1.2.0",
          "state": {
            "_model_module": "@jupyter-widgets/base",
            "_model_module_version": "1.2.0",
            "_model_name": "LayoutModel",
            "_view_count": null,
            "_view_module": "@jupyter-widgets/base",
            "_view_module_version": "1.2.0",
            "_view_name": "LayoutView",
            "align_content": null,
            "align_items": null,
            "align_self": null,
            "border": null,
            "bottom": null,
            "display": null,
            "flex": null,
            "flex_flow": null,
            "grid_area": null,
            "grid_auto_columns": null,
            "grid_auto_flow": null,
            "grid_auto_rows": null,
            "grid_column": null,
            "grid_gap": null,
            "grid_row": null,
            "grid_template_areas": null,
            "grid_template_columns": null,
            "grid_template_rows": null,
            "height": null,
            "justify_content": null,
            "justify_items": null,
            "left": null,
            "margin": null,
            "max_height": null,
            "max_width": null,
            "min_height": null,
            "min_width": null,
            "object_fit": null,
            "object_position": null,
            "order": null,
            "overflow": null,
            "overflow_x": null,
            "overflow_y": null,
            "padding": null,
            "right": null,
            "top": null,
            "visibility": null,
            "width": null
          }
        },
        "36f97656bf7746b59cdf3c11edc4b403": {
          "model_module": "@jupyter-widgets/controls",
          "model_name": "DescriptionStyleModel",
          "model_module_version": "1.5.0",
          "state": {
            "_model_module": "@jupyter-widgets/controls",
            "_model_module_version": "1.5.0",
            "_model_name": "DescriptionStyleModel",
            "_view_count": null,
            "_view_module": "@jupyter-widgets/base",
            "_view_module_version": "1.2.0",
            "_view_name": "StyleView",
            "description_width": ""
          }
        },
        "a826e016e6ad497b87a679a63c4e0a72": {
          "model_module": "@jupyter-widgets/controls",
          "model_name": "HBoxModel",
          "model_module_version": "1.5.0",
          "state": {
            "_dom_classes": [],
            "_model_module": "@jupyter-widgets/controls",
            "_model_module_version": "1.5.0",
            "_model_name": "HBoxModel",
            "_view_count": null,
            "_view_module": "@jupyter-widgets/controls",
            "_view_module_version": "1.5.0",
            "_view_name": "HBoxView",
            "box_style": "",
            "children": [
              "IPY_MODEL_1292417d95ad4aa1b764865adb02b967",
              "IPY_MODEL_85fc89b6d2e04d7a887c31ec67918439",
              "IPY_MODEL_c19c1632d1ec4d60ac140c6871308011"
            ],
            "layout": "IPY_MODEL_3ddf3cf255114cd5a0d086e0d0d08682"
          }
        },
        "1292417d95ad4aa1b764865adb02b967": {
          "model_module": "@jupyter-widgets/controls",
          "model_name": "HTMLModel",
          "model_module_version": "1.5.0",
          "state": {
            "_dom_classes": [],
            "_model_module": "@jupyter-widgets/controls",
            "_model_module_version": "1.5.0",
            "_model_name": "HTMLModel",
            "_view_count": null,
            "_view_module": "@jupyter-widgets/controls",
            "_view_module_version": "1.5.0",
            "_view_name": "HTMLView",
            "description": "",
            "description_tooltip": null,
            "layout": "IPY_MODEL_13a1164461834d0983642c51a9ed5686",
            "placeholder": "​",
            "style": "IPY_MODEL_2f27d32c6d314e96a23c1e93a6621f64",
            "value": "Downloading (…)neration_config.json: 100%"
          }
        },
        "85fc89b6d2e04d7a887c31ec67918439": {
          "model_module": "@jupyter-widgets/controls",
          "model_name": "FloatProgressModel",
          "model_module_version": "1.5.0",
          "state": {
            "_dom_classes": [],
            "_model_module": "@jupyter-widgets/controls",
            "_model_module_version": "1.5.0",
            "_model_name": "FloatProgressModel",
            "_view_count": null,
            "_view_module": "@jupyter-widgets/controls",
            "_view_module_version": "1.5.0",
            "_view_name": "ProgressView",
            "bar_style": "success",
            "description": "",
            "description_tooltip": null,
            "layout": "IPY_MODEL_45483072e06e41249c095d1a6b50d614",
            "max": 3456,
            "min": 0,
            "orientation": "horizontal",
            "style": "IPY_MODEL_da98151727e542b6aeff48a829eb3256",
            "value": 3456
          }
        },
        "c19c1632d1ec4d60ac140c6871308011": {
          "model_module": "@jupyter-widgets/controls",
          "model_name": "HTMLModel",
          "model_module_version": "1.5.0",
          "state": {
            "_dom_classes": [],
            "_model_module": "@jupyter-widgets/controls",
            "_model_module_version": "1.5.0",
            "_model_name": "HTMLModel",
            "_view_count": null,
            "_view_module": "@jupyter-widgets/controls",
            "_view_module_version": "1.5.0",
            "_view_name": "HTMLView",
            "description": "",
            "description_tooltip": null,
            "layout": "IPY_MODEL_04234479adba445ab0b07ec54981dc8f",
            "placeholder": "​",
            "style": "IPY_MODEL_ae5748af26404758b7cfe2dc69805ae6",
            "value": " 3.46k/3.46k [00:00&lt;00:00, 105kB/s]"
          }
        },
        "3ddf3cf255114cd5a0d086e0d0d08682": {
          "model_module": "@jupyter-widgets/base",
          "model_name": "LayoutModel",
          "model_module_version": "1.2.0",
          "state": {
            "_model_module": "@jupyter-widgets/base",
            "_model_module_version": "1.2.0",
            "_model_name": "LayoutModel",
            "_view_count": null,
            "_view_module": "@jupyter-widgets/base",
            "_view_module_version": "1.2.0",
            "_view_name": "LayoutView",
            "align_content": null,
            "align_items": null,
            "align_self": null,
            "border": null,
            "bottom": null,
            "display": null,
            "flex": null,
            "flex_flow": null,
            "grid_area": null,
            "grid_auto_columns": null,
            "grid_auto_flow": null,
            "grid_auto_rows": null,
            "grid_column": null,
            "grid_gap": null,
            "grid_row": null,
            "grid_template_areas": null,
            "grid_template_columns": null,
            "grid_template_rows": null,
            "height": null,
            "justify_content": null,
            "justify_items": null,
            "left": null,
            "margin": null,
            "max_height": null,
            "max_width": null,
            "min_height": null,
            "min_width": null,
            "object_fit": null,
            "object_position": null,
            "order": null,
            "overflow": null,
            "overflow_x": null,
            "overflow_y": null,
            "padding": null,
            "right": null,
            "top": null,
            "visibility": null,
            "width": null
          }
        },
        "13a1164461834d0983642c51a9ed5686": {
          "model_module": "@jupyter-widgets/base",
          "model_name": "LayoutModel",
          "model_module_version": "1.2.0",
          "state": {
            "_model_module": "@jupyter-widgets/base",
            "_model_module_version": "1.2.0",
            "_model_name": "LayoutModel",
            "_view_count": null,
            "_view_module": "@jupyter-widgets/base",
            "_view_module_version": "1.2.0",
            "_view_name": "LayoutView",
            "align_content": null,
            "align_items": null,
            "align_self": null,
            "border": null,
            "bottom": null,
            "display": null,
            "flex": null,
            "flex_flow": null,
            "grid_area": null,
            "grid_auto_columns": null,
            "grid_auto_flow": null,
            "grid_auto_rows": null,
            "grid_column": null,
            "grid_gap": null,
            "grid_row": null,
            "grid_template_areas": null,
            "grid_template_columns": null,
            "grid_template_rows": null,
            "height": null,
            "justify_content": null,
            "justify_items": null,
            "left": null,
            "margin": null,
            "max_height": null,
            "max_width": null,
            "min_height": null,
            "min_width": null,
            "object_fit": null,
            "object_position": null,
            "order": null,
            "overflow": null,
            "overflow_x": null,
            "overflow_y": null,
            "padding": null,
            "right": null,
            "top": null,
            "visibility": null,
            "width": null
          }
        },
        "2f27d32c6d314e96a23c1e93a6621f64": {
          "model_module": "@jupyter-widgets/controls",
          "model_name": "DescriptionStyleModel",
          "model_module_version": "1.5.0",
          "state": {
            "_model_module": "@jupyter-widgets/controls",
            "_model_module_version": "1.5.0",
            "_model_name": "DescriptionStyleModel",
            "_view_count": null,
            "_view_module": "@jupyter-widgets/base",
            "_view_module_version": "1.2.0",
            "_view_name": "StyleView",
            "description_width": ""
          }
        },
        "45483072e06e41249c095d1a6b50d614": {
          "model_module": "@jupyter-widgets/base",
          "model_name": "LayoutModel",
          "model_module_version": "1.2.0",
          "state": {
            "_model_module": "@jupyter-widgets/base",
            "_model_module_version": "1.2.0",
            "_model_name": "LayoutModel",
            "_view_count": null,
            "_view_module": "@jupyter-widgets/base",
            "_view_module_version": "1.2.0",
            "_view_name": "LayoutView",
            "align_content": null,
            "align_items": null,
            "align_self": null,
            "border": null,
            "bottom": null,
            "display": null,
            "flex": null,
            "flex_flow": null,
            "grid_area": null,
            "grid_auto_columns": null,
            "grid_auto_flow": null,
            "grid_auto_rows": null,
            "grid_column": null,
            "grid_gap": null,
            "grid_row": null,
            "grid_template_areas": null,
            "grid_template_columns": null,
            "grid_template_rows": null,
            "height": null,
            "justify_content": null,
            "justify_items": null,
            "left": null,
            "margin": null,
            "max_height": null,
            "max_width": null,
            "min_height": null,
            "min_width": null,
            "object_fit": null,
            "object_position": null,
            "order": null,
            "overflow": null,
            "overflow_x": null,
            "overflow_y": null,
            "padding": null,
            "right": null,
            "top": null,
            "visibility": null,
            "width": null
          }
        },
        "da98151727e542b6aeff48a829eb3256": {
          "model_module": "@jupyter-widgets/controls",
          "model_name": "ProgressStyleModel",
          "model_module_version": "1.5.0",
          "state": {
            "_model_module": "@jupyter-widgets/controls",
            "_model_module_version": "1.5.0",
            "_model_name": "ProgressStyleModel",
            "_view_count": null,
            "_view_module": "@jupyter-widgets/base",
            "_view_module_version": "1.2.0",
            "_view_name": "StyleView",
            "bar_color": null,
            "description_width": ""
          }
        },
        "04234479adba445ab0b07ec54981dc8f": {
          "model_module": "@jupyter-widgets/base",
          "model_name": "LayoutModel",
          "model_module_version": "1.2.0",
          "state": {
            "_model_module": "@jupyter-widgets/base",
            "_model_module_version": "1.2.0",
            "_model_name": "LayoutModel",
            "_view_count": null,
            "_view_module": "@jupyter-widgets/base",
            "_view_module_version": "1.2.0",
            "_view_name": "LayoutView",
            "align_content": null,
            "align_items": null,
            "align_self": null,
            "border": null,
            "bottom": null,
            "display": null,
            "flex": null,
            "flex_flow": null,
            "grid_area": null,
            "grid_auto_columns": null,
            "grid_auto_flow": null,
            "grid_auto_rows": null,
            "grid_column": null,
            "grid_gap": null,
            "grid_row": null,
            "grid_template_areas": null,
            "grid_template_columns": null,
            "grid_template_rows": null,
            "height": null,
            "justify_content": null,
            "justify_items": null,
            "left": null,
            "margin": null,
            "max_height": null,
            "max_width": null,
            "min_height": null,
            "min_width": null,
            "object_fit": null,
            "object_position": null,
            "order": null,
            "overflow": null,
            "overflow_x": null,
            "overflow_y": null,
            "padding": null,
            "right": null,
            "top": null,
            "visibility": null,
            "width": null
          }
        },
        "ae5748af26404758b7cfe2dc69805ae6": {
          "model_module": "@jupyter-widgets/controls",
          "model_name": "DescriptionStyleModel",
          "model_module_version": "1.5.0",
          "state": {
            "_model_module": "@jupyter-widgets/controls",
            "_model_module_version": "1.5.0",
            "_model_name": "DescriptionStyleModel",
            "_view_count": null,
            "_view_module": "@jupyter-widgets/base",
            "_view_module_version": "1.2.0",
            "_view_name": "StyleView",
            "description_width": ""
          }
        }
      }
    }
  },
  "cells": [
    {
      "cell_type": "markdown",
      "metadata": {
        "id": "view-in-github",
        "colab_type": "text"
      },
      "source": [
        "<a href=\"https://colab.research.google.com/github/chrishare/colab_deeplearning/blob/master/pytorch-huggingface-whipser-youtube-asr.ipynb\" target=\"_parent\"><img src=\"https://colab.research.google.com/assets/colab-badge.svg\" alt=\"Open In Colab\"/></a>"
      ]
    },
    {
      "cell_type": "code",
      "execution_count": 1,
      "metadata": {
        "colab": {
          "base_uri": "https://localhost:8080/"
        },
        "id": "NUeo3gCrZ9ws",
        "outputId": "569c7b7e-eaf3-4c70-ee94-d350be15ef76"
      },
      "outputs": [
        {
          "output_type": "stream",
          "name": "stdout",
          "text": [
            "/content\n",
            "total 4\n",
            "drwxr-xr-x 1 root root 4096 Mar 30 13:53 sample_data\n"
          ]
        }
      ],
      "source": [
        "!pwd\n",
        "!ls -ltr"
      ]
    },
    {
      "cell_type": "code",
      "source": [
        "!pip install git+https://github.com/ytdl-org/youtube-dl.git@master#egg=youtube_dl\n",
        "!pip install yt-dlp"
      ],
      "metadata": {
        "colab": {
          "base_uri": "https://localhost:8080/"
        },
        "id": "EFAKZ6KyaJ9X",
        "outputId": "d06495fc-1493-4565-ffa8-dead1b13106e"
      },
      "execution_count": 2,
      "outputs": [
        {
          "output_type": "stream",
          "name": "stdout",
          "text": [
            "Looking in indexes: https://pypi.org/simple, https://us-python.pkg.dev/colab-wheels/public/simple/\n",
            "Collecting youtube_dl\n",
            "  Cloning https://github.com/ytdl-org/youtube-dl.git (to revision master) to /tmp/pip-install-z61snptt/youtube-dl_b361cec5c1934e2f921866657dac37b1\n",
            "  Running command git clone --filter=blob:none --quiet https://github.com/ytdl-org/youtube-dl.git /tmp/pip-install-z61snptt/youtube-dl_b361cec5c1934e2f921866657dac37b1\n",
            "  Resolved https://github.com/ytdl-org/youtube-dl.git to commit 6fece0a96b3cd8677f5c1185a57c6e21403fcb44\n",
            "  Preparing metadata (setup.py) ... \u001b[?25l\u001b[?25hdone\n",
            "Building wheels for collected packages: youtube_dl\n",
            "  Building wheel for youtube_dl (setup.py) ... \u001b[?25l\u001b[?25hdone\n",
            "  Created wheel for youtube_dl: filename=youtube_dl-2021.12.17-py2.py3-none-any.whl size=1920289 sha256=5f7d3a6bfea9e54a2194998569f8c57ae7b8dd51603fdb0fb02e044d35e31351\n",
            "  Stored in directory: /tmp/pip-ephem-wheel-cache-2jvsy_1e/wheels/e5/86/de/31b768b5113d882def26b85ab4f11761f20229c8493751653f\n",
            "Successfully built youtube_dl\n",
            "Installing collected packages: youtube_dl\n",
            "Successfully installed youtube_dl-2021.12.17\n",
            "Looking in indexes: https://pypi.org/simple, https://us-python.pkg.dev/colab-wheels/public/simple/\n",
            "Collecting yt-dlp\n",
            "  Downloading yt_dlp-2023.3.4-py2.py3-none-any.whl (2.9 MB)\n",
            "\u001b[2K     \u001b[90m━━━━━━━━━━━━━━━━━━━━━━━━━━━━━━━━━━━━━━━━\u001b[0m \u001b[32m2.9/2.9 MB\u001b[0m \u001b[31m33.4 MB/s\u001b[0m eta \u001b[36m0:00:00\u001b[0m\n",
            "\u001b[?25hCollecting brotli\n",
            "  Downloading Brotli-1.0.9-cp39-cp39-manylinux1_x86_64.whl (357 kB)\n",
            "\u001b[2K     \u001b[90m━━━━━━━━━━━━━━━━━━━━━━━━━━━━━━━━━━━━━━\u001b[0m \u001b[32m357.2/357.2 KB\u001b[0m \u001b[31m39.0 MB/s\u001b[0m eta \u001b[36m0:00:00\u001b[0m\n",
            "\u001b[?25hCollecting mutagen\n",
            "  Downloading mutagen-1.46.0-py3-none-any.whl (193 kB)\n",
            "\u001b[2K     \u001b[90m━━━━━━━━━━━━━━━━━━━━━━━━━━━━━━━━━━━━━━\u001b[0m \u001b[32m193.6/193.6 KB\u001b[0m \u001b[31m28.0 MB/s\u001b[0m eta \u001b[36m0:00:00\u001b[0m\n",
            "\u001b[?25hCollecting websockets\n",
            "  Downloading websockets-10.4-cp39-cp39-manylinux_2_5_x86_64.manylinux1_x86_64.manylinux_2_17_x86_64.manylinux2014_x86_64.whl (106 kB)\n",
            "\u001b[2K     \u001b[90m━━━━━━━━━━━━━━━━━━━━━━━━━━━━━━━━━━━━━━\u001b[0m \u001b[32m106.5/106.5 KB\u001b[0m \u001b[31m16.0 MB/s\u001b[0m eta \u001b[36m0:00:00\u001b[0m\n",
            "\u001b[?25hCollecting pycryptodomex\n",
            "  Downloading pycryptodomex-3.17-cp35-abi3-manylinux_2_17_x86_64.manylinux2014_x86_64.whl (2.1 MB)\n",
            "\u001b[2K     \u001b[90m━━━━━━━━━━━━━━━━━━━━━━━━━━━━━━━━━━━━━━━━\u001b[0m \u001b[32m2.1/2.1 MB\u001b[0m \u001b[31m82.8 MB/s\u001b[0m eta \u001b[36m0:00:00\u001b[0m\n",
            "\u001b[?25hRequirement already satisfied: certifi in /usr/local/lib/python3.9/dist-packages (from yt-dlp) (2022.12.7)\n",
            "Installing collected packages: brotli, websockets, pycryptodomex, mutagen, yt-dlp\n",
            "Successfully installed brotli-1.0.9 mutagen-1.46.0 pycryptodomex-3.17 websockets-10.4 yt-dlp-2023.3.4\n"
          ]
        }
      ]
    },
    {
      "cell_type": "code",
      "source": [
        "!apt install ffmpeg"
      ],
      "metadata": {
        "colab": {
          "base_uri": "https://localhost:8080/"
        },
        "id": "mNfiJk1caPls",
        "outputId": "d8d4d96c-928e-4b99-b249-6b2e0d46fa6b"
      },
      "execution_count": 3,
      "outputs": [
        {
          "output_type": "stream",
          "name": "stdout",
          "text": [
            "Reading package lists... Done\n",
            "Building dependency tree       \n",
            "Reading state information... Done\n",
            "ffmpeg is already the newest version (7:4.2.7-0ubuntu0.1).\n",
            "0 upgraded, 0 newly installed, 0 to remove and 23 not upgraded.\n"
          ]
        }
      ]
    },
    {
      "cell_type": "code",
      "source": [
        "!yt-dlp https://www.youtube.com/watch?v=xmYekD6-PZ8 --extract-audio --audio-format \"mp3\" -o sample.mp3"
      ],
      "metadata": {
        "colab": {
          "base_uri": "https://localhost:8080/"
        },
        "id": "97OV2sJoaWJ-",
        "outputId": "b029ad17-48f5-45d5-826a-d46c7cf70273"
      },
      "execution_count": 4,
      "outputs": [
        {
          "output_type": "stream",
          "name": "stdout",
          "text": [
            "[youtube] Extracting URL: https://www.youtube.com/watch?v=xmYekD6-PZ8\n",
            "[youtube] xmYekD6-PZ8: Downloading webpage\n",
            "[youtube] xmYekD6-PZ8: Downloading android player API JSON\n",
            "[info] xmYekD6-PZ8: Downloading 1 format(s): 251\n",
            "[dashsegments] Total fragments: 6\n",
            "[download] Destination: sample.webm\n",
            "\u001b[K[download] 100% of   50.52MiB in \u001b[1;37m00:00:01\u001b[0m at \u001b[0;32m32.63MiB/s\u001b[0m\n",
            "[ExtractAudio] Destination: sample.mp3\n",
            "Deleting original file sample.webm (pass -k to keep)\n"
          ]
        }
      ]
    },
    {
      "cell_type": "code",
      "source": [
        "!ls -ltr"
      ],
      "metadata": {
        "colab": {
          "base_uri": "https://localhost:8080/"
        },
        "id": "e1l2zWlNdimD",
        "outputId": "97f3d0df-eec3-484c-84b1-ae1751559b08"
      },
      "execution_count": 5,
      "outputs": [
        {
          "output_type": "stream",
          "name": "stdout",
          "text": [
            "total 44228\n",
            "-rw-r--r-- 1 root root 45284709 Mar  2  2021 sample.mp3\n",
            "drwxr-xr-x 1 root root     4096 Mar 30 13:53 sample_data\n"
          ]
        }
      ]
    },
    {
      "cell_type": "code",
      "source": [
        "!pip install git+https://github.com/huggingface/transformers.git@main\n",
        "!pip install git+https://github.com/huggingface/datasets.git@main"
      ],
      "metadata": {
        "colab": {
          "base_uri": "https://localhost:8080/"
        },
        "id": "obEmL1q9fGza",
        "outputId": "5d33b2ec-57cd-4d93-8568-0c7c6997772a"
      },
      "execution_count": 6,
      "outputs": [
        {
          "output_type": "stream",
          "name": "stdout",
          "text": [
            "Looking in indexes: https://pypi.org/simple, https://us-python.pkg.dev/colab-wheels/public/simple/\n",
            "Collecting git+https://github.com/huggingface/transformers.git@main\n",
            "  Cloning https://github.com/huggingface/transformers.git (to revision main) to /tmp/pip-req-build-vpbjednw\n",
            "  Running command git clone --filter=blob:none --quiet https://github.com/huggingface/transformers.git /tmp/pip-req-build-vpbjednw\n",
            "  Resolved https://github.com/huggingface/transformers.git to commit c612628045822f909020f7eb6784c79700813eda\n",
            "  Installing build dependencies ... \u001b[?25l\u001b[?25hdone\n",
            "  Getting requirements to build wheel ... \u001b[?25l\u001b[?25hdone\n",
            "  Preparing metadata (pyproject.toml) ... \u001b[?25l\u001b[?25hdone\n",
            "Requirement already satisfied: packaging>=20.0 in /usr/local/lib/python3.9/dist-packages (from transformers==4.28.0.dev0) (23.0)\n",
            "Requirement already satisfied: numpy>=1.17 in /usr/local/lib/python3.9/dist-packages (from transformers==4.28.0.dev0) (1.22.4)\n",
            "Requirement already satisfied: requests in /usr/local/lib/python3.9/dist-packages (from transformers==4.28.0.dev0) (2.27.1)\n",
            "Requirement already satisfied: pyyaml>=5.1 in /usr/local/lib/python3.9/dist-packages (from transformers==4.28.0.dev0) (6.0)\n",
            "Requirement already satisfied: regex!=2019.12.17 in /usr/local/lib/python3.9/dist-packages (from transformers==4.28.0.dev0) (2022.10.31)\n",
            "Requirement already satisfied: filelock in /usr/local/lib/python3.9/dist-packages (from transformers==4.28.0.dev0) (3.10.7)\n",
            "Collecting tokenizers!=0.11.3,<0.14,>=0.11.1\n",
            "  Downloading tokenizers-0.13.2-cp39-cp39-manylinux_2_17_x86_64.manylinux2014_x86_64.whl (7.6 MB)\n",
            "\u001b[2K     \u001b[90m━━━━━━━━━━━━━━━━━━━━━━━━━━━━━━━━━━━━━━━━\u001b[0m \u001b[32m7.6/7.6 MB\u001b[0m \u001b[31m57.6 MB/s\u001b[0m eta \u001b[36m0:00:00\u001b[0m\n",
            "\u001b[?25hRequirement already satisfied: tqdm>=4.27 in /usr/local/lib/python3.9/dist-packages (from transformers==4.28.0.dev0) (4.65.0)\n",
            "Collecting huggingface-hub<1.0,>=0.11.0\n",
            "  Downloading huggingface_hub-0.13.3-py3-none-any.whl (199 kB)\n",
            "\u001b[2K     \u001b[90m━━━━━━━━━━━━━━━━━━━━━━━━━━━━━━━━━━━━━━\u001b[0m \u001b[32m199.8/199.8 KB\u001b[0m \u001b[31m27.7 MB/s\u001b[0m eta \u001b[36m0:00:00\u001b[0m\n",
            "\u001b[?25hRequirement already satisfied: typing-extensions>=3.7.4.3 in /usr/local/lib/python3.9/dist-packages (from huggingface-hub<1.0,>=0.11.0->transformers==4.28.0.dev0) (4.5.0)\n",
            "Requirement already satisfied: idna<4,>=2.5 in /usr/local/lib/python3.9/dist-packages (from requests->transformers==4.28.0.dev0) (3.4)\n",
            "Requirement already satisfied: certifi>=2017.4.17 in /usr/local/lib/python3.9/dist-packages (from requests->transformers==4.28.0.dev0) (2022.12.7)\n",
            "Requirement already satisfied: urllib3<1.27,>=1.21.1 in /usr/local/lib/python3.9/dist-packages (from requests->transformers==4.28.0.dev0) (1.26.15)\n",
            "Requirement already satisfied: charset-normalizer~=2.0.0 in /usr/local/lib/python3.9/dist-packages (from requests->transformers==4.28.0.dev0) (2.0.12)\n",
            "Building wheels for collected packages: transformers\n",
            "  Building wheel for transformers (pyproject.toml) ... \u001b[?25l\u001b[?25hdone\n",
            "  Created wheel for transformers: filename=transformers-4.28.0.dev0-py3-none-any.whl size=6858427 sha256=0014f73c83920c6ef4a7fd57dc1da3872913212031670ec06db8cb556750a60b\n",
            "  Stored in directory: /tmp/pip-ephem-wheel-cache-zo053_aq/wheels/b1/e5/2d/f924f6ef6b8b18729da5fe63dcfd041272a65480e4aa70ee15\n",
            "Successfully built transformers\n",
            "Installing collected packages: tokenizers, huggingface-hub, transformers\n",
            "Successfully installed huggingface-hub-0.13.3 tokenizers-0.13.2 transformers-4.28.0.dev0\n",
            "Looking in indexes: https://pypi.org/simple, https://us-python.pkg.dev/colab-wheels/public/simple/\n",
            "Collecting git+https://github.com/huggingface/datasets.git@main\n",
            "  Cloning https://github.com/huggingface/datasets.git (to revision main) to /tmp/pip-req-build-cx6phb00\n",
            "  Running command git clone --filter=blob:none --quiet https://github.com/huggingface/datasets.git /tmp/pip-req-build-cx6phb00\n",
            "  Resolved https://github.com/huggingface/datasets.git to commit c33e8ce68b5000988bf6b2e4bca27ffaa469acea\n",
            "  Installing build dependencies ... \u001b[?25l\u001b[?25hdone\n",
            "  Getting requirements to build wheel ... \u001b[?25l\u001b[?25hdone\n",
            "  Preparing metadata (pyproject.toml) ... \u001b[?25l\u001b[?25hdone\n",
            "Requirement already satisfied: fsspec[http]>=2021.11.1 in /usr/local/lib/python3.9/dist-packages (from datasets==2.11.1.dev0) (2023.3.0)\n",
            "Collecting dill<0.3.7,>=0.3.0\n",
            "  Downloading dill-0.3.6-py3-none-any.whl (110 kB)\n",
            "\u001b[2K     \u001b[90m━━━━━━━━━━━━━━━━━━━━━━━━━━━━━━━━━━━━━━━\u001b[0m \u001b[32m110.5/110.5 KB\u001b[0m \u001b[31m4.0 MB/s\u001b[0m eta \u001b[36m0:00:00\u001b[0m\n",
            "\u001b[?25hRequirement already satisfied: tqdm>=4.62.1 in /usr/local/lib/python3.9/dist-packages (from datasets==2.11.1.dev0) (4.65.0)\n",
            "Requirement already satisfied: requests>=2.19.0 in /usr/local/lib/python3.9/dist-packages (from datasets==2.11.1.dev0) (2.27.1)\n",
            "Requirement already satisfied: pandas in /usr/local/lib/python3.9/dist-packages (from datasets==2.11.1.dev0) (1.4.4)\n",
            "Requirement already satisfied: pyarrow>=8.0.0 in /usr/local/lib/python3.9/dist-packages (from datasets==2.11.1.dev0) (9.0.0)\n",
            "Requirement already satisfied: numpy>=1.17 in /usr/local/lib/python3.9/dist-packages (from datasets==2.11.1.dev0) (1.22.4)\n",
            "Collecting xxhash\n",
            "  Downloading xxhash-3.2.0-cp39-cp39-manylinux_2_17_x86_64.manylinux2014_x86_64.whl (212 kB)\n",
            "\u001b[2K     \u001b[90m━━━━━━━━━━━━━━━━━━━━━━━━━━━━━━━━━━━━━━\u001b[0m \u001b[32m212.2/212.2 KB\u001b[0m \u001b[31m10.8 MB/s\u001b[0m eta \u001b[36m0:00:00\u001b[0m\n",
            "\u001b[?25hRequirement already satisfied: huggingface-hub<1.0.0,>=0.11.0 in /usr/local/lib/python3.9/dist-packages (from datasets==2.11.1.dev0) (0.13.3)\n",
            "Collecting responses<0.19\n",
            "  Downloading responses-0.18.0-py3-none-any.whl (38 kB)\n",
            "Requirement already satisfied: packaging in /usr/local/lib/python3.9/dist-packages (from datasets==2.11.1.dev0) (23.0)\n",
            "Requirement already satisfied: pyyaml>=5.1 in /usr/local/lib/python3.9/dist-packages (from datasets==2.11.1.dev0) (6.0)\n",
            "Collecting aiohttp\n",
            "  Downloading aiohttp-3.8.4-cp39-cp39-manylinux_2_17_x86_64.manylinux2014_x86_64.whl (1.0 MB)\n",
            "\u001b[2K     \u001b[90m━━━━━━━━━━━━━━━━━━━━━━━━━━━━━━━━━━━━━━━━\u001b[0m \u001b[32m1.0/1.0 MB\u001b[0m \u001b[31m39.1 MB/s\u001b[0m eta \u001b[36m0:00:00\u001b[0m\n",
            "\u001b[?25hCollecting multiprocess\n",
            "  Downloading multiprocess-0.70.14-py39-none-any.whl (132 kB)\n",
            "\u001b[2K     \u001b[90m━━━━━━━━━━━━━━━━━━━━━━━━━━━━━━━━━━━━━━\u001b[0m \u001b[32m132.9/132.9 KB\u001b[0m \u001b[31m15.6 MB/s\u001b[0m eta \u001b[36m0:00:00\u001b[0m\n",
            "\u001b[?25hRequirement already satisfied: charset-normalizer<4.0,>=2.0 in /usr/local/lib/python3.9/dist-packages (from aiohttp->datasets==2.11.1.dev0) (2.0.12)\n",
            "Collecting aiosignal>=1.1.2\n",
            "  Downloading aiosignal-1.3.1-py3-none-any.whl (7.6 kB)\n",
            "Requirement already satisfied: attrs>=17.3.0 in /usr/local/lib/python3.9/dist-packages (from aiohttp->datasets==2.11.1.dev0) (22.2.0)\n",
            "Collecting async-timeout<5.0,>=4.0.0a3\n",
            "  Downloading async_timeout-4.0.2-py3-none-any.whl (5.8 kB)\n",
            "Collecting frozenlist>=1.1.1\n",
            "  Downloading frozenlist-1.3.3-cp39-cp39-manylinux_2_5_x86_64.manylinux1_x86_64.manylinux_2_17_x86_64.manylinux2014_x86_64.whl (158 kB)\n",
            "\u001b[2K     \u001b[90m━━━━━━━━━━━━━━━━━━━━━━━━━━━━━━━━━━━━━━\u001b[0m \u001b[32m158.8/158.8 KB\u001b[0m \u001b[31m19.9 MB/s\u001b[0m eta \u001b[36m0:00:00\u001b[0m\n",
            "\u001b[?25hCollecting yarl<2.0,>=1.0\n",
            "  Downloading yarl-1.8.2-cp39-cp39-manylinux_2_17_x86_64.manylinux2014_x86_64.whl (264 kB)\n",
            "\u001b[2K     \u001b[90m━━━━━━━━━━━━━━━━━━━━━━━━━━━━━━━━━━━━━━\u001b[0m \u001b[32m264.6/264.6 KB\u001b[0m \u001b[31m26.2 MB/s\u001b[0m eta \u001b[36m0:00:00\u001b[0m\n",
            "\u001b[?25hCollecting multidict<7.0,>=4.5\n",
            "  Downloading multidict-6.0.4-cp39-cp39-manylinux_2_17_x86_64.manylinux2014_x86_64.whl (114 kB)\n",
            "\u001b[2K     \u001b[90m━━━━━━━━━━━━━━━━━━━━━━━━━━━━━━━━━━━━━━\u001b[0m \u001b[32m114.2/114.2 KB\u001b[0m \u001b[31m12.9 MB/s\u001b[0m eta \u001b[36m0:00:00\u001b[0m\n",
            "\u001b[?25hRequirement already satisfied: typing-extensions>=3.7.4.3 in /usr/local/lib/python3.9/dist-packages (from huggingface-hub<1.0.0,>=0.11.0->datasets==2.11.1.dev0) (4.5.0)\n",
            "Requirement already satisfied: filelock in /usr/local/lib/python3.9/dist-packages (from huggingface-hub<1.0.0,>=0.11.0->datasets==2.11.1.dev0) (3.10.7)\n",
            "Requirement already satisfied: idna<4,>=2.5 in /usr/local/lib/python3.9/dist-packages (from requests>=2.19.0->datasets==2.11.1.dev0) (3.4)\n",
            "Requirement already satisfied: certifi>=2017.4.17 in /usr/local/lib/python3.9/dist-packages (from requests>=2.19.0->datasets==2.11.1.dev0) (2022.12.7)\n",
            "Requirement already satisfied: urllib3<1.27,>=1.21.1 in /usr/local/lib/python3.9/dist-packages (from requests>=2.19.0->datasets==2.11.1.dev0) (1.26.15)\n",
            "Requirement already satisfied: python-dateutil>=2.8.1 in /usr/local/lib/python3.9/dist-packages (from pandas->datasets==2.11.1.dev0) (2.8.2)\n",
            "Requirement already satisfied: pytz>=2020.1 in /usr/local/lib/python3.9/dist-packages (from pandas->datasets==2.11.1.dev0) (2022.7.1)\n",
            "Requirement already satisfied: six>=1.5 in /usr/local/lib/python3.9/dist-packages (from python-dateutil>=2.8.1->pandas->datasets==2.11.1.dev0) (1.16.0)\n",
            "Building wheels for collected packages: datasets\n",
            "  Building wheel for datasets (pyproject.toml) ... \u001b[?25l\u001b[?25hdone\n",
            "  Created wheel for datasets: filename=datasets-2.11.1.dev0-py3-none-any.whl size=468759 sha256=eeae14059439f2dc8e76845330ce35c97137fb3f67f8b88cee8b3bf2f0e8f520\n",
            "  Stored in directory: /tmp/pip-ephem-wheel-cache-48cij16w/wheels/a9/a3/17/fff0ae1797ddefdb0103cb0445a5dcdd3dbea05ac598c48a28\n",
            "Successfully built datasets\n",
            "Installing collected packages: xxhash, multidict, frozenlist, dill, async-timeout, yarl, responses, multiprocess, aiosignal, aiohttp, datasets\n",
            "Successfully installed aiohttp-3.8.4 aiosignal-1.3.1 async-timeout-4.0.2 datasets-2.11.1.dev0 dill-0.3.6 frozenlist-1.3.3 multidict-6.0.4 multiprocess-0.70.14 responses-0.18.0 xxhash-3.2.0 yarl-1.8.2\n"
          ]
        }
      ]
    },
    {
      "cell_type": "code",
      "source": [
        "from transformers import WhisperProcessor, WhisperForConditionalGeneration\n",
        "from datasets import load_dataset\n",
        "\n",
        "# load model and processor\n",
        "processor = WhisperProcessor.from_pretrained(\"openai/whisper-medium\")\n",
        "model = WhisperForConditionalGeneration.from_pretrained(\"openai/whisper-medium\").to(\"cuda\")\n",
        "model.config.forced_decoder_ids = None\n"
      ],
      "metadata": {
        "colab": {
          "base_uri": "https://localhost:8080/",
          "height": 113,
          "referenced_widgets": [
            "21f01ae238ce475e8498de11d4ac798a",
            "58bace916aa245c4a4746544aafe67c5",
            "02809c5246dc4bd78de5ca30b4264d46",
            "22ba1900eb0b4f0cb19ee93183f76541",
            "b79bbd0f98ee40e590fc7918feb1f9d6",
            "206a9e3e6964498094d12fbcbc589eaa",
            "f22f635153884fb0b162cefaeaaf04da",
            "651171d6cfd04dd8b6fde8a22837665e",
            "2ff262d219a84f7d805013b6afee3f8c",
            "d550c9a9cb844dc7a3f5cfe3e81efb22",
            "b7aaf9dbd8fc4961aec11a6f01d15363",
            "b9d4e4a296474ac0a2e33e68ff7eccee",
            "80185d3d139f40a58a48e30962b13b91",
            "128e33e3861c4206a5d588608f0e1f5f",
            "8c5095d8779c41d1a29d46b8a588cd55",
            "598ffb5b7bb84321a80f77d2ce372585",
            "1e20ff0d6a954748bd52149d76aad89d",
            "bf61647e564e4373b85f055a7c583c60",
            "1f28ccf4d317457b964c027649fe7271",
            "8111e4cdd2834e329e7e3b208fb6aca1",
            "35833bd1cd1d499ea326e9bc18eee3ed",
            "36f97656bf7746b59cdf3c11edc4b403",
            "a826e016e6ad497b87a679a63c4e0a72",
            "1292417d95ad4aa1b764865adb02b967",
            "85fc89b6d2e04d7a887c31ec67918439",
            "c19c1632d1ec4d60ac140c6871308011",
            "3ddf3cf255114cd5a0d086e0d0d08682",
            "13a1164461834d0983642c51a9ed5686",
            "2f27d32c6d314e96a23c1e93a6621f64",
            "45483072e06e41249c095d1a6b50d614",
            "da98151727e542b6aeff48a829eb3256",
            "04234479adba445ab0b07ec54981dc8f",
            "ae5748af26404758b7cfe2dc69805ae6"
          ]
        },
        "id": "JrbJksiYedV-",
        "outputId": "e1747ccb-6281-44d6-be97-e4c53d496ff1"
      },
      "execution_count": 9,
      "outputs": [
        {
          "output_type": "display_data",
          "data": {
            "text/plain": [
              "Downloading (…)lve/main/config.json:   0%|          | 0.00/1.97k [00:00<?, ?B/s]"
            ],
            "application/vnd.jupyter.widget-view+json": {
              "version_major": 2,
              "version_minor": 0,
              "model_id": "21f01ae238ce475e8498de11d4ac798a"
            }
          },
          "metadata": {}
        },
        {
          "output_type": "display_data",
          "data": {
            "text/plain": [
              "Downloading pytorch_model.bin:   0%|          | 0.00/3.06G [00:00<?, ?B/s]"
            ],
            "application/vnd.jupyter.widget-view+json": {
              "version_major": 2,
              "version_minor": 0,
              "model_id": "b9d4e4a296474ac0a2e33e68ff7eccee"
            }
          },
          "metadata": {}
        },
        {
          "output_type": "display_data",
          "data": {
            "text/plain": [
              "Downloading (…)neration_config.json:   0%|          | 0.00/3.46k [00:00<?, ?B/s]"
            ],
            "application/vnd.jupyter.widget-view+json": {
              "version_major": 2,
              "version_minor": 0,
              "model_id": "a826e016e6ad497b87a679a63c4e0a72"
            }
          },
          "metadata": {}
        }
      ]
    },
    {
      "cell_type": "code",
      "source": [
        "# Importing the library\n",
        "import psutil\n",
        " \n",
        "# Getting % usage of virtual_memory ( 3rd field)\n",
        "print('RAM memory % used:', psutil.virtual_memory()[2])\n",
        "# Getting usage of virtual_memory in GB ( 4th field)\n",
        "print('RAM Used (GB):', psutil.virtual_memory()[3]/1000000000)"
      ],
      "metadata": {
        "colab": {
          "base_uri": "https://localhost:8080/"
        },
        "id": "HrrVtFNdm8fD",
        "outputId": "5009017b-d7e4-469d-b8a5-e834992591c4"
      },
      "execution_count": 12,
      "outputs": [
        {
          "output_type": "stream",
          "name": "stdout",
          "text": [
            "RAM memory % used: 29.8\n",
            "RAM Used (GB): 3.725406208\n"
          ]
        }
      ]
    },
    {
      "cell_type": "code",
      "source": [
        "# Load some audio\n",
        "!pip install whisper-openai\n",
        "import whisper\n",
        "audio = whisper.load_audio(\"./sample.mp3\")"
      ],
      "metadata": {
        "colab": {
          "base_uri": "https://localhost:8080/"
        },
        "id": "dbO3jGUGiLcn",
        "outputId": "38cf9c6c-41e1-41e4-b300-d46e6d6eb340"
      },
      "execution_count": 11,
      "outputs": [
        {
          "output_type": "stream",
          "name": "stdout",
          "text": [
            "Looking in indexes: https://pypi.org/simple, https://us-python.pkg.dev/colab-wheels/public/simple/\n",
            "Collecting whisper-openai\n",
            "  Downloading whisper_openai-1.0.0-py3-none-any.whl (1.2 MB)\n",
            "\u001b[2K     \u001b[90m━━━━━━━━━━━━━━━━━━━━━━━━━━━━━━━━━━━━━━━━\u001b[0m \u001b[32m1.2/1.2 MB\u001b[0m \u001b[31m15.8 MB/s\u001b[0m eta \u001b[36m0:00:00\u001b[0m\n",
            "\u001b[?25hCollecting ffmpeg-python==0.2.0\n",
            "  Downloading ffmpeg_python-0.2.0-py3-none-any.whl (25 kB)\n",
            "Requirement already satisfied: transformers>=4.19.0 in /usr/local/lib/python3.9/dist-packages (from whisper-openai) (4.28.0.dev0)\n",
            "Requirement already satisfied: torch in /usr/local/lib/python3.9/dist-packages (from whisper-openai) (1.13.1+cu116)\n",
            "Requirement already satisfied: more-itertools in /usr/local/lib/python3.9/dist-packages (from whisper-openai) (9.1.0)\n",
            "Requirement already satisfied: numpy in /usr/local/lib/python3.9/dist-packages (from whisper-openai) (1.22.4)\n",
            "Requirement already satisfied: tqdm in /usr/local/lib/python3.9/dist-packages (from whisper-openai) (4.65.0)\n",
            "Requirement already satisfied: future in /usr/local/lib/python3.9/dist-packages (from ffmpeg-python==0.2.0->whisper-openai) (0.18.3)\n",
            "Requirement already satisfied: pyyaml>=5.1 in /usr/local/lib/python3.9/dist-packages (from transformers>=4.19.0->whisper-openai) (6.0)\n",
            "Requirement already satisfied: huggingface-hub<1.0,>=0.11.0 in /usr/local/lib/python3.9/dist-packages (from transformers>=4.19.0->whisper-openai) (0.13.3)\n",
            "Requirement already satisfied: filelock in /usr/local/lib/python3.9/dist-packages (from transformers>=4.19.0->whisper-openai) (3.10.7)\n",
            "Requirement already satisfied: tokenizers!=0.11.3,<0.14,>=0.11.1 in /usr/local/lib/python3.9/dist-packages (from transformers>=4.19.0->whisper-openai) (0.13.2)\n",
            "Requirement already satisfied: packaging>=20.0 in /usr/local/lib/python3.9/dist-packages (from transformers>=4.19.0->whisper-openai) (23.0)\n",
            "Requirement already satisfied: requests in /usr/local/lib/python3.9/dist-packages (from transformers>=4.19.0->whisper-openai) (2.27.1)\n",
            "Requirement already satisfied: regex!=2019.12.17 in /usr/local/lib/python3.9/dist-packages (from transformers>=4.19.0->whisper-openai) (2022.10.31)\n",
            "Requirement already satisfied: typing-extensions in /usr/local/lib/python3.9/dist-packages (from torch->whisper-openai) (4.5.0)\n",
            "Requirement already satisfied: certifi>=2017.4.17 in /usr/local/lib/python3.9/dist-packages (from requests->transformers>=4.19.0->whisper-openai) (2022.12.7)\n",
            "Requirement already satisfied: idna<4,>=2.5 in /usr/local/lib/python3.9/dist-packages (from requests->transformers>=4.19.0->whisper-openai) (3.4)\n",
            "Requirement already satisfied: urllib3<1.27,>=1.21.1 in /usr/local/lib/python3.9/dist-packages (from requests->transformers>=4.19.0->whisper-openai) (1.26.15)\n",
            "Requirement already satisfied: charset-normalizer~=2.0.0 in /usr/local/lib/python3.9/dist-packages (from requests->transformers>=4.19.0->whisper-openai) (2.0.12)\n",
            "Installing collected packages: ffmpeg-python, whisper-openai\n",
            "Successfully installed ffmpeg-python-0.2.0 whisper-openai-1.0.0\n"
          ]
        }
      ]
    },
    {
      "cell_type": "code",
      "source": [
        "from transformers import pipeline"
      ],
      "metadata": {
        "id": "1ScVNxoykHhS"
      },
      "execution_count": 13,
      "outputs": []
    },
    {
      "cell_type": "code",
      "source": [
        "print(audio)"
      ],
      "metadata": {
        "id": "BS74vmJCs11F",
        "outputId": "9790ea07-5bf2-4356-839f-ab8a5338c038",
        "colab": {
          "base_uri": "https://localhost:8080/"
        }
      },
      "execution_count": 14,
      "outputs": [
        {
          "output_type": "stream",
          "name": "stdout",
          "text": [
            "[0. 0. 0. ... 0. 0. 0.]\n"
          ]
        }
      ]
    },
    {
      "cell_type": "code",
      "source": [
        "#i = processor(audio,return_tensors=\"pt\").input_features.to(\"cuda:0\")\n",
        "i = processor(audio,return_tensors=\"pt\").input_features\n",
        "pipe = pipeline(\n",
        "  \"automatic-speech-recognition\",\n",
        "  model=model,\n",
        "  tokenizer=processor.tokenizer,\n",
        "  feature_extractor=processor.feature_extractor,\n",
        "  chunk_length_s=30,\n",
        "  device=\"cuda:0\",\n",
        ")\n"
      ],
      "metadata": {
        "colab": {
          "base_uri": "https://localhost:8080/"
        },
        "id": "aI3u-2QJj_l5",
        "outputId": "0d4ed99c-3aee-4f73-ac5e-5efdfd4e0282"
      },
      "execution_count": 16,
      "outputs": [
        {
          "output_type": "stream",
          "name": "stderr",
          "text": [
            "It is strongly recommended to pass the `sampling_rate` argument to this function. Failing to do so can result in silent errors that might be hard to debug.\n"
          ]
        }
      ]
    },
    {
      "cell_type": "code",
      "source": [
        "r = pipe(\"sample.mp3\", generate_kwargs  = {\"task\":\"transcribe\", \"language\":\"english\"})"
      ],
      "metadata": {
        "id": "v-mhbAzgvShp",
        "outputId": "b0cf4c8c-3309-41a2-d3de-e5cc357348bb",
        "colab": {
          "base_uri": "https://localhost:8080/"
        }
      },
      "execution_count": 23,
      "outputs": [
        {
          "output_type": "stream",
          "name": "stderr",
          "text": [
            "/usr/local/lib/python3.9/dist-packages/transformers/generation/utils.py:1313: UserWarning: Using `max_length`'s default (448) to control the generation length. This behaviour is deprecated and will be removed from the config in v5 of Transformers -- we recommend using `max_new_tokens` to control the maximum length of the generation.\n",
            "  warnings.warn(\n"
          ]
        }
      ]
    },
    {
      "cell_type": "code",
      "source": [
        "print(r)"
      ],
      "metadata": {
        "id": "fKlWvgl81m-l",
        "outputId": "b98fc5e7-46b1-4e19-800d-3db5cc23ed65",
        "colab": {
          "base_uri": "https://localhost:8080/"
        }
      },
      "execution_count": 26,
      "outputs": [
        {
          "output_type": "stream",
          "name": "stdout",
          "text": [
            "{'text': \" All right, good morning. Good morning. Wow, that was pretty good actually. Thank you. I'm Jay Hartzell. I'm the dean. It's my pleasure to see everybody here today and thanks for coming out on a Friday. This is one of the craziest weeks on campus all year. We started building into this week and thinking, into the year thinking what's gonna be this week and it turns out people don't mind being around when there's a USC coming on Saturday. So it's a really great week for us to bring back some superstars and Bill Gurley's definitely one of those superstars. So thanks Bill for coming back to campus. We've been working on trying to get him back in the right time and the right venue and we've had this conversation around what he wanted to share with our MBA students and so this is a great chance to get him back. So thank you all for coming out. Thanks to Tina Mabely and her team for arm twisting and making sure that you all knew about this. Also thanks to our faculty. So Jim Nolan's here, Lewis Martins is somewhere in the back there. I hope you get a sense of all the positive momentum around this space and industry and technology from Venture Fellows to all the work that Lewis is doing with the Kelleher Center, Texas Venture Labs. There's a lot of enthusiasm and excitement I think across the board in a wide range of ways. So with that, let me introduce our speaker today, Bill. So Bill Gurley has spent over 15 years as a general partner of Benchmark Capital. Prior to Benchmark, Bill was a partner with Hummer-Winblad Venture Partners. Before entering the venture capital business, he spent four years on Wall Street as a top-rank research analyst, including three years at CS First Boston, focusing on personal computer hardware and software. His research coverage included companies like Dell, Compaq, and Microsoft, and he was the lead analyst on the Amazon IPO. In both 95 and 96, Bill was a member of the institutional investor All American Research Team. Prior to his investment career, Bill was a design engineer at Compaq Computer, where he worked on products such as the 48650 and Compaq's first multiprocessor server. For the past 15 years, Bill has authored the Above the Crowd blog which focuses on the evolution and economics of the high technology business. Over his venture career, he has worked with such companies as GrubHub, Nextdoor, OpenTable, Stitch Fix, Uber, and Zillow.com. He received a BS in computer science from the University of Florida in 1989, then cleaned up his resume by coming to the University of Texas for an MBA in 1993. He currently serves on the advisory board of our school and has just been a great supporter for all things we do, so thank you again for coming out. With that, how about, I've been thinking about giving this particular presentation for about a decade. And I've been talking to the administration. I was inspired after studying the stories of three people that you might call luminaries. They were probably heroes of mine when I read about them. And I noticed an overlap, a pattern amongst them. And so that's what I'm here to talk to you about. Now, how many people in the room have heard the phrase dream job? Raise your hand. All right, everybody's heard the phrase, so you know what it means. It means chasing a career where you just have immense passion. My partner Kevin Harvey has a phrase that I love. He says, life is a use it or lose it proposition. And for most humans, they take one career path. And so if you only got one shot and then it's all over, why not do what makes you most happy? And so what I'd like to do, so by the way, one of the reasons this is the audience, I want to thank you for being here. This is the audience I wanted to do this presentation to first because I think coming to an MBA program is this amazingly unique opportunity you have. You've had your undergrad degree, you've worked a little bit, and now you have this chance to go do whatever you want. And it's an amazing pivot point. And so for me, you're the opportune audience for this, and obviously I wanted to come back to Texas to do it. So thanks for having me. So what I'm going to do first is I'm going to start by telling three stories of these luminaries. And then after that, I'm going to walk through five guidelines that I've inferred from what they did. And then there's some special stories at the end as well. So I'm going to start in Oroville, Ohio, which happens to be, anyone know what company was founded in Oroville in 1897? I'll give you 20 bucks if anybody knows. Smuckers. That has nothing to do with this presentation. So the first gentleman I'm talking about is a guy named Robert Montgomery that grew up in O Orville. This is in 1940 and this is what the town looked like when he did. He attended Orville High School where he was a three-sport letterman, baseball, football, basketball. He was lucky enough one of his neighbors knew the coach, Fred Taylor, at Ohio State and he was able to get a spot on a really good basketball team. This is Robert, number 24, he's a point guard. That's him peering into the huddle. That's Fred Taylor, the coach of Ohio State at the time. Robert wasn't a starter. He came off the bench and he didn't get a ton of minutes, but this team had John Havlicek and Jerry Cousy, or John Cousy, and his sophomore year they won the national championship. They played in the national championship his junior and senior year. Those two players that I mentioned went on to the NBA and Robert went into coaching. He spent his first year as a JV coach at a high school and then finagled his way onto the staff at Army. And so at 22 he was an assistant at Army, the Black Knights. They played here in Gillis Field House. When he was 24, the head coach retired and he begged for the job. This is him signing the contract. So at 24, he became head coach of a D1 school. Now, what ended up making Robert successful from my point of view isn't what happened inside the four walls of the gym where they practice every day. It's what he did outside. In the first five years of his coaching career, he befriended five of the top basketball minds on the East Coast. This is Red Arback. So Havelchuk went to Boston. Red was the coach at the time. He was able to build a relationship through that. This is Joe Lapchick. That's Claire B. Claire B. coached at Long Island University and has the best record of any coach in the basketball hall of fame. Robert met Claire when he was 25. When he was 27, Robert drove Claire to Claire's induction into the basketball hall of fame and sat next to him. The next one's Henry Iba. He coached 36 years at Oklahoma State and was at the time probably one of the most successful basketball coaches of all time. That's Everett Dean from Indiana. And he met all of them and became friends. Two of them, Lapchick and Iba, he just went to a coach's luncheon where he knew they were gonna be and he begged, he said, can I sit next to you? And that's how he met both of them. And then he kept following up and hanging out. A year later, he met Pete Newell. Pete was the greatest basketball mind on the West Coast at the time. They became fast friends. Years later, Pete would induct Robert into the basketball hall of fame. He didn't limit his peer network to basketball coaches. He met football coaches as well. This was the coach of the Cincinnati Bengals, Bo Schimbecker, who would go on to coach at Michigan, was his assistant on the basketball team at Army. And he met Bill Parcells around the same time, way before Bill became a star in the National Football League. And then Doc Councilman was the longtime swimming coach at Indiana and also someone that Robert became friends with. Now I'm using the name Robert to obscure things a little bit. I'm talking about Bobby Knight. So at age 31, Bobby Knight became head coach at Indiana University. Five years later, at 36, they went undefeated, both in the regular season and the post-season, won the national championship. That's never been repeated since, in over four decades. At Indiana, he would win three national championships, four Coach of the Year awards, 11 Big Ten titles, and when he retired, he had 902 victories, the most of any coach at the time. As I said, Pete Newell inducted Bobby into the Hall of Fame. I'm going to move on to the next story and then I'll circle back and you'll see where I'm going. Now I'm going to start in Hibbing, Minnesota. This is about two or three hours north of Minnesota. Another Robert, Robert Zimmerman grew up in Hibbing. That's what Hibbing looked like when he was young. Even though it's pretty far north of Minnesota, it's a bit of an urban environment. Robert loved music. And in this early photo, he's got a drum, he got a guitar when he was 10 years old and by high school was playing in a band regularly. They used to cover Elvis and Little Richard. His yearbook says that he's likely to join Little Richard. That didn't happen. But what happened was he went to the University of Minnesota. He didn't go to class. He was hanging out in this place called Dinkytown, which is this photo right here. And at the time, you know, and this is late 50s, early 60s, there's a lot of new stuff happening. Even though he grew up playing rock and roll, he fell in love with folk music. And over, I'd say, eight or nine months, he studied every folk album he possibly could. He didn't have a lot of money. Back in the time, you could walk into a record store and listen in a booth. He would do that for hours on hours on hours. He became friends with people that also liked folk music but had money, and he would go to their house and listen to their record collection. He's even accused of having quote borrowed their records and not returned them, which is a point of controversy even still today. The next thing that happened I think is one of the most ambitious actions anyone that I know has taken to pursue their dream job. He hitchhiked from Minneapolis to New York City. He had a guitar, a suitcase, and $10. And it's 1,200 miles. And so if you ask him today why he did it, he'll talk a little bit about chasing the performers. So this is Dave Van Ronk, Peggy Seeger, the New Lost City Ramblers. These were people he was listening to in Minnesota, but these people were in New York City. And so he wanted to see them. But there was really one person he wanted to see, which is Woody Guthrie. So Woody Guthrie had become his hero. And if you just go to Wikipedia, once you find out who this is, if you don't know already, he went to New York to find Woody Guthrie. Like that was his pursuit because he had come to have this affection and love for the way Woody played and he wanted to know everything he possibly could about it. So he went to New York, he found Woody Guthrie, used to perform for him and he started started hanging out at 33 venues, the Cafe Waa, the Gaslight Cafe, and Gerties Folk City. This was the epicenter of folk music at the time, and he would sit in each of these venues for hours upon hours and study what the other artists were doing. Years later, Liam Clancy would say he could perform any one of our songs like us, including tonality everything so he was a mimic he was studying studying studying you got a big break he was asked to open for John Lee Hooker at Gerties one one day and his career got started this gentleman's Joe Hammond he was a producer for Aretha Franklin Billy holiday countie. And one day he walked in and found this gentleman, 1961. I think he's 22, 23, something like that. The next year Robert Zimmerman changes his name to Bob Dylan. John releases the first album. The album does okay. In 63 they released the Free Will and Bob Dylan. This album goes to number 22 in the US and number one in the UK. And from there, everything was off into the races. In 63, he performed at the March on Washington with Joan Baez, where Martin Luther King spoke his famous speech. A year later, he performed for the first time with Johnny Cash, another one of his heroes. Johnny gave him a guitar and asked if he could record several of his songs. Johnny asked Bob if he could record his songs, which he did. The rest is history, as they say. 100 million albums sold, 11 Grammys, an Oscar, a Emmy. He was introduced into the Rock and Roll Hall of Fame. And then he took it to a whole new level. Kennedy sent an award with Clinton. Barack Obama gave him a Medal of Freedom. And then he topped it off with something that's never been done. He won the Nobel Prize in Literature. The only musician ever to be given such an award. That happened two years ago. Amazing story. All right, this one you won't know as well, but it's equally inspiring. St. Louis, Missouri. The person this time is named Daniel. He grew up in St. Louis. His father was an intelligence officer in the military and moved around Europe quite a bit. After the war ended, his father became a travel agent and his mother worked with him, and so they traveled quite a bit. Now, because they were travel agents, his mom told him he had to journal everything, so he was forced to go on vacation and take notes. He wasn't that interested in travel, but he loved food. And so when he went back and looked at all the journal notes he had always taken were always about the food they were eating, wherever they were, and he started to associate different places with the food that he went to. He went to John Burroughs High School in St. Louis, ended up at Trinity College in Connecticut, where he would spend every weekend in New York City eating food, because that's what he was passionate about. He got a poli sci major. He went and worked on a campaign for a year. Wasn't that interesting to him. So he went back to New York. Robert Zimmerman was chasing folk music. Danny was chasing food. So his personal life was all about what he could do and going to different restaurants and exploring. He went to work for Checkpoint. They make those things that you attach to clothes in the store so that when you walk out, the beeper goes off. This was early in Checkpoint's life. He did incredibly well there and within a year was making 125k a year as a salesman, which he spent the most of it on food in New York City. One night he was out to eat with his uncle and his aunt and his grandmother at Elio's, a restaurant that's still open. And he told them that he was studying for the LSAT. He was going to take the LSAT next year and go up his career ladder again and become a lawyer. To which his uncle replied, will you just stop it? Why don't you go open a restaurant? You know that's what you're supposed to do. Caught him a little off guard, but woke him up. And the next day he took the LSAT. He never sent the scores to a single school, never applied to a single school. He quit his job as a salesman and went to work at a restaurant called Pesca in the front office for $12,500 a year. So he took a 10X salary reduction. The reason he chose Pesca is there was a chef there, an up and coming chef called Michael Romano, and he wanted to be around this gentleman. And so he would work during the day in the front office, and then at night he'd beg to do the slop work in the kitchen just so he could get exposure to what was happening there. He was also taking a wine class at night and he met this gentleman who happened to be the head, or one of the top restaurant critics for the New York Times. And so they started hanging out together and going to different restaurants and talking and learning. He did something really interesting. He made a list of 12 icons in the restaurant industry. These were new people that were doing innovative things around opening new high-end restaurants. Wolfgang Puck's the first one. But there were 12 different. A lot of these people are on celebrity chef shows today. And he started studying them. He created a notebook for each and every one of them. What makes them special? What do they do unique? And he started looking at their recipes. Then he got even bolder and decided to go to Europe. He took every single one of the connections he had, both in the restaurant industry and the travel industry, through his parents. Plus, when he was at Trinity, he would go do tours in Europe for his parents. And so he had a lot of connections. And he did this. Now, I just had to look this up for the presentation. It's a stagiaire, which I think is a French word for I'll work in a restaurant for free, because that's what he did. One of the restaurants that he worked in, he had to pay $500 a month, which I ran the math, and that's equal to a negative 25,000 K a year salary. So he's gone from making one 25 to 12 to now he's upside down 25. But what he does is what you think he would do. He studies. So in each and every one of these places, each and every one of these restaurants, he's watching the chef. He's watching the recipes. He goes on the sourcing trips to see how they pick food out of markets or from different fish markets. And he just takes tons of notes, he looks at the decor, he looks at the wine list. And so on the way home from this like nine month journey, he said it took the entire eight and a half hour flight just to organize the notes. When he gets back to New York, he'll spend another six or seven months searching 100 locations to find the very best location to launch his first restaurant. He's 27 years old when he opened Junion Square Cafe. This is Danny Meyer, for those of you that might know who he is. I love this quote. He's most proud of the studying he did on his own, not the studying that he did at Trinity College. Like it was, and he viewed this as the best work he had ever done as a student. Union Square Cafe is still open today. It's 11 times Zagat has said it's the very best restaurant in New York. Danny Meyer would go on to launch 16 high-end restaurants in New York City, four of Ron Michelin stars. He is the undisputed king of high-end restaurants in New York City, but he wasn't done. A lot of these restaurants Danny would open in areas that needed regentrification. He had a philosophy that if he could build a restaurant, it could become the bespoke place that people go. And then the community evolved, that he would get a lift alongside that. So he typically would look for areas that were on the rise but needed help. One area that needed a lot of help was Madison Square Park, which wasn't far from Union Square. So he and a bunch of other business people helped launch the Madison Square Conservancy that rebuilt the park. A few years after that happened, they started improving the park. There was a decision made to allow there to be a restaurant in the center of the park. He applied, got the bid, and won. And that was the location of the first Shake Shack. A while later later I'm going to go through something so you'll see the work that went into launching the first Shake Shack. If you go to the first Shake Shack it doesn't look like this. If you want to eat it looks like this when it's open. There's always a line. I got to know Danny on the Open Table Board. We worked together for over a decade and he used to tell me I to keep it a secret, but that this single venue made way more profit than any of the white tablecloth restaurants that he owned. Of course, fast forward today, there's 190 Shake Shacks around the world. 2015, they took Shake Shack public on the NYSE, and it's now worth 2.2 billion. I think there's one here in Austin, correct? So these were the three stories. I had read them all independently and I noticed that there was a similar strain that was running through each and every one of these stories. And so now I've organized that and I want to talk to you about it. The first one is the one that I can provide the least amount of help with you about because I don't know what your passions are. But my first piece of advice would be to find your passion. Pick a profession of which you have a deep personal interest. There's nothing that's going to make you be more successful than if you love doing what you're doing because you're going to work harder than anybody else because it's not going to feel like work, it's going to feel like fun. So I think this is the most important decision you can possibly make in a career to make sure you have immense passion for what you're doing. This should be your personal passion, not your parents, not your sisters, not your family generation of expectation. It needs to be something that you're doing on your own. It might be that you're passionate about the same thing as your parents, so you don't have to run from them, but you need to know that this is something you're doing on your own. And then I also mentioned status and compensation. There are a lot of high profile careers that make a lot of money and passion for whatever career path you're going down, and they're going to smoke you if you don't have it yourself. This is one of my favorite quotes from the book, and I think it's a great one. It's a great quote. It's practice. And I think this is the test for whether or not you're actually pursuing your dream job, which is the essence of it that would be considered studying or work or practice. Do you enjoy that part? Do you enjoy the preparation? Everybody enjoys winning. Do you enjoy the preparation? The second of the five guidelines I'd have for you is hone your craft constantly. It's extremely important to be obsessive about understanding everything you possibly can about your craft. Consider it an obligation, right? Hold yourself accountable. That requires you to keep learning over time. Study the history, know the pioneers. It's the bedrock foundation for what you're gonna build upon, and it will help you in networking that you're able to talk the language of the people that came before you. Strive to know more than everyone else about your particular craft, and that can be in a subgroup. And what do I mean by that? Let's say you love e-sports. Let's just say you've decided, you know, multiplayer gaming, e-sports, like this is it for you. You grow up gaming, I love it, all right? Within the first six months of being in this program, you should be the most knowledgeable person at McCombs in eSports. Like that's doable. You should be able to do that. And then by the end of your first year, you should be top five of all MBA students. And hopefully when you exit your second year, you're number one of any MBA student out there. It doesn't mean you're the e-sports person in the world, but you've separated yourself from everyone else that's out there. It's not, I can't make you the smartest or the brightest, but it's quite doable to be the most knowledgeable. It's possible to gather more information than somebody else, especially today. And then lastly, and this is a bit of a caveat, depending on what it is that you're chasing, you might want to go to where the epicenter is. And the reason is there's just more networking available there, if that's where the great people are. And the next two bullet points will tie into that. This is an interesting story from Bobby Knight's biography. His second time he met with Pete Newell, he walked into the room. So this guy's like 32. Pete Newell's one of the most famous basketball coaches ever. He walks into the room with 74 plays diagrammed on three by five cards, sits down in the middle of the floor and says, hey Pete, come go through these me. So it's probably like, I don't know if it's audacious or brilliant or what, but some people would consider that over the top. But to get the number one mentor you can possibly find and make them go through that amount of tedious work. But he did it, Pete did it, they both learned from it, which is interesting. These quotes from the movie No Direction Home Martin Scorsese did against Dylan really highlight the point that I'm trying to drive home to you. Most people would think, hey, Bob Dylan, folk singer, probably just had the DNA or got lucky or something. He was studying. He used the word, I'm a musical expeditionary. I looked up expeditionary. An expedition is to travel for scientific research or exploration. And that's what Dylan was doing. There was no one that knew more about folk music than he did when he broke out. He knew more than anybody. And then this, another guy in Minneapolis that knew him called him a sponge. And then this, there's a ruthlessness in the way Dylan finds sources, uses them, and moves on. Constantly gathering information and putting it into his own repertoire. I'm gonna read from Danny's book for you, because I want to drive home this point of studying. You can see I'm a huge fan of Danny. I've got all these markers here. He's one of the most genuine humans I've ever met. So he has a restaurant in New York called Blue Smoke, which is actually a barbecue place. So when they radius of Austin and the Texas Hill Country, lie five towns I revere, each with a distinctly different style of barbecue. The elements of barbecue are limited, ribs, brisket, pulled pork, chopped pork, minced pork, sausage, chicken, coleslaw, beans, and a handful of sides. But it's become an American culinary language with thousands of dialects and accents. I tried to understand each variation. During one 36-hour road trip through North Carolina, I tasted 14 variations on chopped pork, each defined by a subtle and dramatic differences in texture, the degree and type of smoke used, the amount of tomato or vinegar in the sauce, how much heat was applied to the meat, and how well and how much or how little crackling got chopped up and tossed in. That's the level of detail he thinks about food. I really like this one because it has to do with Shake Shack, but as soon as we won the bid, Richard Coraine, my most enthusiastic researcher of road food, and I set off to study burger and shake stands all over the country. We started out, of course, at Ted Drew's Steak and Shake in St. Louis, which he grew up eating, continued on to Kansas City, and individually made stops in Michigan, Culver's, Los Angeles, In-N-Out Burger, Napa, Taylor's, Automatic Refresher, Chicago, Gold Coast Dogs, plus eight other establishments, Connecticut, in names three or four, always in search of the best to breed. So that's how they did research for Shakespeare. And I think it drives home this point of like understand more than anybody else. This is a bit of an aside. Does anybody know this painting? This is a painting called First Communion. It was painted by Pablo Picasso when he was 15 years old. Most people, I think, are brought up and they're told about Picasso in their first art class and you look at these Cubism pictures and someone will say, oh, a seven-year-old could do that. What they don't know is that Picasso was a trained classic artist and had mastered it by the time he was 15. And he had spent time studying the way you would if you had set out to be the greatest painter in the world. And that's why I made this statement, great, and it isn't random, it's earned. If you're gonna research something, this is your lucky day. Information is freely available on the internet. That's the good news. The bad news is you have zero excuse for not being the most knowledgeable on any subject you want because it's right there at your fingertip. And it's free, which is excellent. Three, develop mentors in your field. I don't know if any of you ever dare to be as aggressive as Dylan hitchhiking 1,200 miles to find your mentor, but that might be the type of attitude you want to think about in the back of your mind as you pursue mentors. Take every chance you can to find somebody who can teach you about the field you want to excel in. And you can work your way up the stack. You don't have to jump straight to the top on day one. Treat them with respect. Debate things. Learn from them. Document what you hear. Share it with others. Try to get these mentors interested in you and your own development. How do you do this? Send them notes. Tell them when you use their advice to be successful. Send them gifts when you have accomplishments. Get them bought in. One of the reasons American Idol works is because you start voting or cheering for somebody and now all of a sudden you feel like you're part of that process. Get them to feel that way about your own success. And then on the mentor thing, never stop. You've got to keep on pursuing them. I had the remarkable fortune this year in my 20th year as an investor to meet Stan Druckenmiller and Howard Marks. And they're two people I've admired for a very long time. I read everything that they write any time they speak. And I got to sit down with both of them for a couple hours and talk about investing. It was awesome. And the things that they pushed on changed some of the actions that I'm taking today in my work. I had already walked you through these examples. Every one of these three luminaries had a mentor that was important to them. Funny story, last week when I was preparing for this presentation, I was rereading Danny's book and I went back to this notion when he was 25 and he made this list of people that he considered to be icons in the industry. So I texted him, I said, Danny, how many of those 12 icons have you ended up establishing a relationship with? And he sent me this emoji back. I was thrilled that he knew how to use emojis. He went on to tell me that four of them have become close personal friends. And I think it just documents this point I'm making about how it's a never, searching for mentors and leaning on mentors is a never ending task. Four, embrace peers in your field. Develop a relationship with them. Have discussions. Have arguments. This is the way you learn. This is the way that ideas get shared. This is the way you hone and innovate ideas. I, this is one thing I was told when I got to MBA school, everybody said network, network, network. And I thought it was a social activity. I thought they were like telling me, oh, you need to develop your social skills, and they wanted me to randomly talk to people that I have no similar interests with. And what I've come to realize is, no, it's not about that. It's about connecting with the people that you have the most overlap with, because you will be able to help each other along the way, along the journey. Always share best practices and don't worry about giving away any proprietary knowledge. It's a good trade. It's just smart. If you get caught up in worrying about it, you're gonna fail to advance. And the activity of sharing with mentors and peers will lead to so many positive things that help you go up that whatever the negative costs are, aren't gonna come anywhere close. Celebrate your peers' accomplishments as if you were their own. Cheer them, send them notes, be happy for them. That will come back to you in spades. And then lastly, peers don't need to be in your exact field. You know, Bobby Knight had sat down with a swimming coach and got knowledge. Some of the entrepreneurs I work with and CEOs find that it's more interesting to go to a conference on a topic that's a little bit far away because they get more innovative ideas that they can bring back to their field. So it doesn't have to be this close. It can be spread out. Now, most of you know that this is the way you're supposed to network online. And you should certainly have a LinkedIn profile. And you should certainly connect with people. I would give you one piece of advice, which is I'd be a little stingy with who you link to. I have a rule where I only want to link to people that I would call and trust their advice. Because then when I'm searching for a candidate that I want to reference on or something, I don't get random answers. I get people that I know I'm going to use. I think people over-proliferate their LinkedIn account. But, and for those of you who were here yesterday, I think there is a much more incredible resource, not an alternative, you should do this in Twitter. Twitter is the most amazing networking and learning network ever built. And for someone that's pursuing their dream job or chasing a group of mentors or peers, it's remarkable. In any given field, 50% to 80% of the top experts in that field are on Twitter and they're sharing ideas and you can connect to them and follow them in your personal feed. If you get lucky enough and say something they find interesting, they might follow you. And the reason this becomes super interesting is that unlocks direct message. And now all of a sudden you can communicate directly electronically whenever you want with that individual. It's very, very powerful. If you're not using Twitter, you're missing out. I don't even own any shares anymore, but like... Last one, this should become, this should be obvious to people, but always give the majority of the credit to the other people that helped you up along the way. One, it's the right thing to do, and two, it'll keep you from being an asshole when you're successful. I find all the greats do it. It's the right thing to do. Send letters, send gifts. Any time you accomplish something in your career, take the time to send messages back to the people that helped you. I'll tell you a personal story that's quite serious that will help reinforce this. My favorite professor when I was here was Jim Fredrickson, who many of you know passed away this year. And along the way, along my journey three or four times, I took the time to write him a letter, send him a note, send him a gift, and tell him what an impact he had had on me. When he passed, I didn't have all this anxiety like, oh, I didn't get a chance to tell him. I took the chances to tell him. And I would encourage you guys to do that type of stuff along the way. And then lastly, eventually, you got to pay it back. So you become the mentor. People start reaching out to you. Make sure you take the time. Here are a few examples of that. This is Bobby Knight. Shortly after one of his sessions with Pete Newell in the next year, Indiana's playing one of Pete's teams. They end up in a tournament together and Bobby uses the stuff that Pete taught him and beats Pete on the field. And he recalled that notion in the book and he said, you know, if Pete was willing to do that for me, I got to do it for everybody else. And let me show you statistically a little bit of the impact of what Bobby did later in his career. This is from Wikipedia. These are Bobby's former players that are coaching either D1 or NBA, and this is his former coaches that are coaching D1 or NBA. So it's an immense legacy of people that he developed that went on to be successful. If any deep, deep basketball fans in the room, they know that his point-guarded army was none other than Mike Sieszewski, who was one of two people that have now passed him on career wins, 902. And Sieszewski asked Bobby Knight to induct him into the Hall of Fame, which is a moving video you can go watch on YouTube if you're interested. This is Danny. He's probably the most wonderful human, or certainly one of the most wonderful humans I've ever met in my life. He talks here about graciousness. It's evident in every single thing that he does, how he talks to people, how he treats his staff. His book is worth reading, if you get a chance. As you can see, I'm a huge fan. And now I'm gonna tell you two more stories, if we have time. The reason once again that I wanted to talk to an MBA class is because an MBA degree and when you're here is an opportune time to chase your dream job. And so the next two stories I'm going to tell you are more contemporary and they both involve using the MBA program and MBA program as a way to pivot into success. So now we're in Marlowe, Oklahoma. All these are in the Midwest. So Sam is my next contestant. Sam grew up in Marlowe. His father worked at Halliburton, which is in Duncan, a little bitty town right near it. And he went to Mar he went to Mardo High School, where he also was a multi-sport athlete. Unfortunately, he was 5'9 and 140, so he didn't get to keep playing in college. I'm about to show you the university he attended, and you'll know what to do. There we go. Okay, perfect. He went to University of Oklahoma, ended up going to Bain. I think he actually worked at Bain Capital. And he was pursuing his career path like he thought he was supposed to. They relocated him to Sydney. He's sitting in one of these high rises overlooking the Sydney Opera House. And he hears about this book, Moneyball, by Michael Lewis. He reads it in three days. He can't get it out of his head. It's consumed him. He decides immediately, not unlike Danny, in the restaurant that this is what he has to do. So he starts applying to business schools. He gets accepted at Harvard and Stanford. And then deciding which one he's going to go to, he goes and he asks for tons of meetings with the schools and he tells them what he's going to do. I'm going to get a job in sports analytics come hell or high water. He claims Harvard looks at him like he's crazy. The Stanford staff says, come on, that'd be awesome. We want to do shit to everyone that we know. He shows up at Stanford, graduate school of business. Lo and behold, they have a sports management class. Lo and behold, Billy Bean from the Oakland A's and the Moneyball book is speaking his first semester. He gets to know Billy Bean. Billy Bean introduces him to Michael Lewis. They start spending time together, Michael, Liz, and Oakland. The school lets him get to know people at the Niners organization and at several sports organizations all over the country. He combines it with hard work. He says he sent 100 letters out to get summer interns. He ends up with one at the Texans. When he gets back from that, Michael Lewis asks him to come over and talk football because he's working on the blind side, so he helps Michael Lewis on the blind side. Eventually gets a job with Houston Rockets, spent two and a half hours with Lex Alexander. Lex hires him at I believe 27 years old. Nine months later, the Rockets hired Darryl Morey and the two of them worked together for seven years I think and built the best basketball sports analytics department in the country. Darryl won executive of the year last year at the Rockets. So at age 35, Sam Hinkes named general manager of the Philadelphia 76ers. And this is what, like nine years after he read Moneyball, looking over the Sydney Opera House. For those of you that know the story, there's some good and some bad. Sam and Darrell had spent a lot of time studying the ways you could turn a program around. And I've had long discussions with Darrell about it's fascinating the way they think through it. But if you're in a particular tough spot, the only way to do it is to shed your talent, improve your salary cap room, let your young players get tons of playing time, and win through the draft. Now, that's the plan Sam took, and like any good entrepreneur or business person, he told all his constituents, it's about the long term, not the short term, you gotta stay with me on this. And he wrote tons of letters, he's very thoughtful, he's very smart. That strategy led to three of the worst seasons in the history of the NBA. But it also led to the drafting of Joel Embiid, who's become a close personal friend of Sam's. And some of you may know the rest of the story. Eventually the ownership got tired of this strategy and cut ties with Sam. About that exact same moment in time, everything started getting better and they started winning. There were a few fans that supported him along the way, and there are a lot of signs that are way worse than this one. Now we're stinky, but I trust stinky. But today, for those of you that know, Vegas has the Sixers as the number two team in the East right now. This is Durant. I chose the Texas Jersey on purpose instead of the Warriors, talking about how they're the team to watch. And Barclay goes further, he says, if they stay healthy, this will be a team to watch for 10 years. So three years of bad, 10 years of good, that's a pretty good trade if you're willing to make it. Not everyone was able to make it. Sam now is, especially in basketball circles, I hope he never goes back to basketball, because it would be more legendary that way. This phrase, this meme, is now an internet meme that's outside of basketball, but some of the players started using this phrase when they were losing games and people were upset. Trust the process. No one used it more than Joel, and no one's a bigger fan of Hickeys than Joel, which frustrates the ownership to no end. They're still missing a GM right now, and they're having trouble finding one. And now there's a... This is the new meme, which is a little more aspirational. And during the draft, when they drafted Ben Simmons, there's a video on the web of a sports bar in Philly where they got everyone together for the draft. Before the draft, they raised a banner of Hincky and retired it. Joel won't stop. This is last year. Hincky, I think, in a little bit of a jab, the Astros, for those of you who don't know, was also an analytics turnaround. And when the Astros won last year, Hinky wrote, I love it when a plan comes together. And then Joel threw both memes back. Trust the process, he died for our sins. Then someone in Philly did this. This is a little over the top. You get the resurrection with the players. So I think it's an amazing story. One fun part about this, Sam's now back at Stanford. He's teaching two courses there. And he may play two separate dream jobs. He's hanging out with startups, venture capitalists, and he may do it all over again, which I think is really cool. All right, last one, and this one's very near and dear to my heart. There's an executive I work with named Katrina Lake. She grew up in San Francisco, but she went to high school in Minnesota. And I used the map of Minnesota so they could all be from the Midwest to kind of, I like that story better. This is the high school she went to. She went to Stanford, thought she was going to be pre-med, ended up not liking it very much, got an economics major, went to work at a consulting firm called Partian and they had a number of clients in the retail and fashion space and so she noticed that she had an affection for that and started hanging around those clients and focusing on those clients. And while she was visiting those places, she kept asking herself questions like, why does this work this way? She told me she was in a department store and she's like, why are these clothes out here? Why isn't there just like one here? And you press a button and then it's put in your dressing room because you keep all the inventory in the back where you could stack it better. Like why, and she just kept saying why, why, why, why is this stuff organized this way? And finally she decided, you know, I'm gonna go do something about this and she came up with a notion of a company that would be a personal shopper for everybody. She didn't quite know how to launch it, so she decided to use her MBA program as a way to launch it. And she told me that, you know, she planned to graduate, but not They were both in the same company. They were both in the same company. They were both in. Next, she found two founders that had launched startups. This is Joanne from Trunk Club and Craig from Shop It To Me in a similar space, but were a little different. And she got them on the phone. She wanted to hear if what she was thinking about was different and better than what they had done, because she wanted it to be different and better. There was a professor at Harvard that had run, had been CEO of a retail store named Jose Alvarez. She started writing drafts of what she wanted to do and got him to push back. At first he was very skeptical, but she said the back and forth helped her and modified her plan quite a bit. In the summer she went to actually a company we were invested in called Polyvore, which was a social fashion site where people aggregated likes on the web. Sukhinder Singh, who had run a huge chunk of the revenue at Google, was CEO there, so she built that relationship. She also got to study how fashion websites spend time with bloggers. After graduating, she came to San Francisco to launch her company, and she did two things that are miraculous for me from a mentoring standpoint. The first one is she found Eric Colson. He ran all of data science at Netflix. You remember the million dollar prize, all that stuff, that was under Eric. He had recently retired from Netflix and was looking for something to inspire him, and she did. And he became an advisor to the company. Marka Hanson was over 20 years at Gap in merchandising, marketing, same story. Katrina found her. Marka was very excited about helping Katrina. Marka's still on the board today. Marka would spend a day a week, a day a month in the early days at the company helping her almost the way an executive chairman would. She then found two other people. John Fleming was the CEO of Walmart.com. Julie Bornstein I worked with back at Nordstrom years ago. She was CMO at Sephora and hanging out in San Francisco. She put Julie on the board. And then a feat I've never seen before, she recruited Eric and Julie off the board and into the company. And they both worked there. Julie is COO and Eric is head of data analytics where he is still today. The company has 95 data scientists, a fashion company. This is her at the very beginning, she's trying to figure out exactly what they were gonna do. For those of you that don't know how it works, Katrina Lake runs a company called Stitch Fix. You fill out a 15 page profile about yourself. You have a lot of information, way more information than any other retailer has on you. And then you press a button. A stylist looks at your profile and picks five items. The stylist is sitting in front of a dashboard. There's a keep score for every single item in our inventory for every single shopper that's out there, unique to that individual shopper. As you buy more, the data science studies what you like, what you don't like, and that's how the system works. I was lucky enough to become an investor in this company, even though it has inventory, has a lot of inventory. There's five warehouses today. And along the way as it was starting to succeed, this article ran which is a nice tie to the last one. Forbes called her fashionista money ball. And there are certainly elements that would cause that correlation. In her third year she went profitable. She only consumed $20 million of venture capital in the company's life. When we went public, there was $100 million in cash on the balance sheet. At year five, she hit a billion in revenues. At age 34, she became the youngest founder, CEO, female founder, CEO ever last fall when we took Stitchvick's public. That's me hiding in the back. I think one thing that really differentiates Katrina, if she were here today, she'd certainly be proud of this story, but I think she's more proud of how she's been able to use the platform to speak out on social change. This was an infographic that they released about a year ago, but 31% of the engineers are female, 60% of the board, 62% of the management team, and 86% of the entire org. And she's not afraid to speak out on topics like this. When we did the bake-off for the IPO, she insisted all the investment banks put their diversity record at the front of the pitch deck. Every single one of them that came in, and they all did. So these are the five profiles that I shared with you. I would highlight a couple things about this. First of all, in the first three, if I said to you, hey, you say, hey, I'm going to NBA school. I want to do something inspiring and have a great career. You wouldn't think I would mention opening a restaurant or being a basketball coach or a folk singer. Like those aren't things you would say. And yet it didn't stop these people from being successful. The other thing that I would highlight is all five of them, I don't think a single one of them started what they're doing for money. It wasn't about, in each and every story, they were chasing a passion and a dream that allowed them to want to study, going back to Bobby Knight's thing about having the will to practice, and they all did it on their own. Danny uses a phrase, professional research, in his book constantly, which I think is an interesting phrase because most of us think about the studying and research we do around curriculum and a teacher. And you don't think about if you're in finance or marketing or accounting, do you go home at night and study for yourself? Like to improve your own skill set? Most people don't do that. I think that's interesting. For those of you who've decided your dream job is consulting, they say you got to tell them what you're going to tell them, tell them, and then tell them what you told them. So this is for you. Pick a career about where you're passionate. Be obsessive about the learning. Lean on mentors. Lean on peers. Give the credit to someone else and pay it forward. For those in the music that like music, you know I stole the title of this speech from Tom Petty who unfortunately passed away this year. He was once asked what advice he'd have for people if he were giving it and while it's not as ambitious, what I've told you it's almost the exact same thing on the exact same vector. I'll let you read that yourself. So that's it. Thank you for allowing me to do that. I really appreciate it. I don't know what time it is. Questions? Anyone has any questions? I didn't talk at all about venture capital or any of the companies I work. Proudest personal achievement. I've been very fortunate and had the help of a lot of people. There are a couple of companies we're very early on, we made bets about how we thought they'd involved it played out. A couple that come to mind. I sat down with Chuck Timbalton at OpenTable. He's like, I'm going to put this computer in the front of a restaurant and make a business out of that. And he was in like three restaurants. It was very daunting to think. And the only way the business worked is if it took over, you know, and went nationwide and became a network effect with the consumer side. But that's what we thought about at the moment and we drew it up. Another one more recently that's similar, a company called Nextdoor that I'm on the board of, we were three years on a business idea that just didn't work called Fanbase. And the team cut back to seven people and started doing weekly PowerPoints with the board for new ideas. And one of them, one of the engineers said, my friend's got an HOA and they want us to build a software platform for them to use. And it was almost immediate. We were all like, oh, that's a really good idea. And like in a minute, you know, the founders, me and others, like could see forward as to what could possibly happen. And those moments of like having that opportunity to bet and thinking about what it might become and then seeing it happen to me is like super fulfilling and interesting. Yeah, great question. There were a lot along the way. I mentioned, you know, here Jim Fredrickson really pushed me. I had been used to having coming from engineering, I was used to deterministic questions. And so in physics or math or whatever, there's an answer to the problem. And I think what Jim knew is that in business, there's not a right answer. And so no matter what I said, he was gonna challenge it and come at it from the other side. And then I would, oh my God, I got it wrong. But he was pushing me to see both sides of it, which was great. There were so many. I knocked on doors on Wall Street, a guy named Al Jackson. When I was here in the summer, I literally went to New York and knocked on doors and begged for a job. And a guy named Al Jackson took a bet on me. And they weren't recruiting at the University of Texas, you know. And I see him still occasionally and he, First Boston not only hired me but they had a program where they made you as a fresh MBA student a senior analyst covering companies. They just put you out there, trial by fire. So he had a big impact. Frank Quatrone, I was about to leave sell side and go to the buy side. This is a true story. And I got a call from Frank Quatrone, the famous banker. He was leaving Morgan Stanley to start a new bank. And he had heard about me. And we sat down. And he said, I want you to come be an analyst. And I said, you know, I don't think I want to be a sell side analyst my entire career. And he said, what do you want to do? And I said, I'd love to be a venture capitalist. And he said, come work for me. I'll move you to Silicon Valley and introduce you to every venture capitalist I know, which he did. And along the way, as you heard, we competed for lead left on the Amazon IPO, which is a wonderful bit of trivia. Maybe that's my proudest moment. Deutsche Morgan-Grunfeld took Amazon public. No one will ever remember that. But we beat Morgan and Goldman, which is fun. And then all of my partners, all the founding partners at Benchmark taught that I wanted to be a venture capitalist and a couple of things had come together. My sister went to Rice and was employee 63 at Compaq and so she got options. And like I was like, wow, that's different. Like, and then I started to understand what on. I went to work at Compaq, too, for a couple years. I also, while I was at Compaq, read a Peter Lynch book and started trading stocks on Prodigy. And I loved Borland. I used Turbo Pascal. And Borland went public while I was at Compaq, I bought the stock, it went from like 12 to 80, and like, so I was hooked on the gambling and the investing side, and the technology side. I also have zero chance of ever leading a group of people anywhere to anything. I have ADD, and I don't like to lead. I'm thrilled that there are people that do so that I can have a symbiotic relationship with them. It's that combining of making bets around intuition about where the technology can take us that I think is what I get super excited about. I also, having worked on Wall Street for a while, I like the slower pace of venture in that it's, you know, like you look at what Hinky went through, it's not measured that quickly, it's measured kind of over a seven to 10 year time frame, which gives you the opportunity to really hone the products and companies that you're working with. The guys on the buy side, like the Daily Mark, I just don't think I could live with that. How did you get through those moments where you had a moment of fear, how did you think through know and on this axis is what you really know. And that first part of the journey, you actually get anxiety and drop. So I started reading about the internet and I realized how little I knew and I freaked out. I had an anxiety moment. And my advice is to push on through. Like you'll get down to the bottom of the U-curve, you'll find your footing, and you'll come up the other side. Same thing happened at Ventures. The very first company that I invested in was a company called Employees out of Williams College, moved to Atlanta. We hired a new CEO. I went to a board meeting one day, and the results were disastrous. And Ventures is kind of a weird thing because you have this partnership, but you go out and you do most of your work on your own. And I literally, I think I was about to break down in hives. And I asked for a break and I went and walked around the building. And I remember this to this day. I was thinking, what have you gotten yourself into? How could you ever possibly be successful in this industry? You have no idea what to do. And it sits in my brain that day, that moment. And so I would just tell you, keep pushing. You get past it, you start to find your feet, and you make it through. My least favorite things in my job? There's some ridiculously bureaucratic things to anybody that works with stars like 401A and A evaluations are a pain in the butt and they're actually bad math and bad finance, so those things bug me. Any time that you're unsuccessful in getting a founder to be successful is tough. There's a lot of people that can start companies, a lot of great people start a lot of great companies to go on and emerge as Bezos has done as a great CEO also over a 20 year time frame. Your odds of getting to that point just go down and down and down. And so, you know, I'm thrilled to have worked with people like Katrina or Matt Maloney at Grubhub or Spencer Zillow that have risen to the thing, but they don't all make it. And so sometimes along the way, you're having conversations about how you're going to have to find a replacement or bring in a new CEO. And those are immensely difficult because you've built such deep personal relationships. And give up? Yeah. Oh, to focus or like not be distracted? I'm not sure I understand. How did you know when all the keys came up on the deck manuals? How did you know when one would actually use it in the deck. There's a book called Shark Proof by Harvey McKay that I read when I was here, so it's probably outdated and doesn't use any of the digital tools. But he had a whole section on your dream job and how to think about it over the long term, not just drop everything, do it right now. He would say, keep a folder in your drawer. Keep shifting towards it. When I was here, I thought about the idea of being a VC and I went and talked to the people that were practicing it around town here and they told me, ah kid, go work for 20 years and then we'll talk. Well that was, that felt like just a door that I couldn't get through and so I went to Wall Street just because I'd been convinced I couldn't be a venture capitalist but after I started succeeding I started tilting back that direction because that's where I wanted to go and then when that opportunity came for someone that could take me towards it I jumped at it and so I would just like let let where you want to be be the compass even if you can't go for it today for whatever reason. Any other Regardless of the passion around startups, do you think it's more important to have the problem in this room, the problem, your goal in the company? Yeah, I mean, you could certainly be passionate about doing a startup and not be passionate about the vertical. I will tell you it'll wane over time. I've worked with founders that have done that. They're really good and that have built companies that are worth, you know, $700 million, $800 million, but they usually sell instead of keep going because, and I've heard the phrase, I don't want to out anybody, but like, well, you know, this isn't really my passion, the category. And so I think optimally you want it all to line up, right? You want to have a passion about it. Katrina cares about fashion, like it's something that matters to her. It makes a difference if you want to go all the way. So maybe that's too high a bar. One last one? Maybe not. Okay, thank you all for coming out. Enjoy the rest of the day.\"}\n"
          ]
        }
      ]
    }
  ]
}